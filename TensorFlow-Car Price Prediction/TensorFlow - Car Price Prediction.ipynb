{
 "cells": [
  {
   "cell_type": "code",
   "execution_count": 1,
   "metadata": {},
   "outputs": [],
   "source": [
    "import tensorflow as tf### models\n",
    "import pandas as pd ### reading and processing data\n",
    "import seaborn as sns ### visualization\n",
    "import numpy as np### math computations\n",
    "import matplotlib.pyplot as plt### plotting bar chart\n",
    "from tensorflow.keras.layers import Normalization, Dense, InputLayer\n",
    "from tensorflow.keras.losses import MeanSquaredError, Huber, MeanAbsoluteError\n",
    "from tensorflow.keras.metrics import RootMeanSquaredError\n",
    "from tensorflow.keras.optimizers import Adam"
   ]
  },
  {
   "cell_type": "markdown",
   "metadata": {},
   "source": [
    "# Data Preparation"
   ]
  },
  {
   "cell_type": "code",
   "execution_count": 37,
   "metadata": {},
   "outputs": [
    {
     "data": {
      "text/html": [
       "<div>\n",
       "<style scoped>\n",
       "    .dataframe tbody tr th:only-of-type {\n",
       "        vertical-align: middle;\n",
       "    }\n",
       "\n",
       "    .dataframe tbody tr th {\n",
       "        vertical-align: top;\n",
       "    }\n",
       "\n",
       "    .dataframe thead th {\n",
       "        text-align: right;\n",
       "    }\n",
       "</style>\n",
       "<table border=\"1\" class=\"dataframe\">\n",
       "  <thead>\n",
       "    <tr style=\"text-align: right;\">\n",
       "      <th></th>\n",
       "      <th>v.id</th>\n",
       "      <th>on road old</th>\n",
       "      <th>on road now</th>\n",
       "      <th>years</th>\n",
       "      <th>km</th>\n",
       "      <th>rating</th>\n",
       "      <th>condition</th>\n",
       "      <th>economy</th>\n",
       "      <th>top speed</th>\n",
       "      <th>hp</th>\n",
       "      <th>torque</th>\n",
       "      <th>current price</th>\n",
       "    </tr>\n",
       "  </thead>\n",
       "  <tbody>\n",
       "    <tr>\n",
       "      <th>0</th>\n",
       "      <td>1</td>\n",
       "      <td>535651</td>\n",
       "      <td>798186</td>\n",
       "      <td>3</td>\n",
       "      <td>78945</td>\n",
       "      <td>1</td>\n",
       "      <td>2</td>\n",
       "      <td>14</td>\n",
       "      <td>177</td>\n",
       "      <td>73</td>\n",
       "      <td>123</td>\n",
       "      <td>351318.0</td>\n",
       "    </tr>\n",
       "    <tr>\n",
       "      <th>1</th>\n",
       "      <td>2</td>\n",
       "      <td>591911</td>\n",
       "      <td>861056</td>\n",
       "      <td>6</td>\n",
       "      <td>117220</td>\n",
       "      <td>5</td>\n",
       "      <td>9</td>\n",
       "      <td>9</td>\n",
       "      <td>148</td>\n",
       "      <td>74</td>\n",
       "      <td>95</td>\n",
       "      <td>285001.5</td>\n",
       "    </tr>\n",
       "    <tr>\n",
       "      <th>2</th>\n",
       "      <td>3</td>\n",
       "      <td>686990</td>\n",
       "      <td>770762</td>\n",
       "      <td>2</td>\n",
       "      <td>132538</td>\n",
       "      <td>2</td>\n",
       "      <td>8</td>\n",
       "      <td>15</td>\n",
       "      <td>181</td>\n",
       "      <td>53</td>\n",
       "      <td>97</td>\n",
       "      <td>215386.0</td>\n",
       "    </tr>\n",
       "    <tr>\n",
       "      <th>3</th>\n",
       "      <td>4</td>\n",
       "      <td>573999</td>\n",
       "      <td>722381</td>\n",
       "      <td>4</td>\n",
       "      <td>101065</td>\n",
       "      <td>4</td>\n",
       "      <td>3</td>\n",
       "      <td>11</td>\n",
       "      <td>197</td>\n",
       "      <td>54</td>\n",
       "      <td>116</td>\n",
       "      <td>244295.5</td>\n",
       "    </tr>\n",
       "    <tr>\n",
       "      <th>4</th>\n",
       "      <td>5</td>\n",
       "      <td>691388</td>\n",
       "      <td>811335</td>\n",
       "      <td>6</td>\n",
       "      <td>61559</td>\n",
       "      <td>3</td>\n",
       "      <td>9</td>\n",
       "      <td>12</td>\n",
       "      <td>160</td>\n",
       "      <td>53</td>\n",
       "      <td>105</td>\n",
       "      <td>531114.5</td>\n",
       "    </tr>\n",
       "  </tbody>\n",
       "</table>\n",
       "</div>"
      ],
      "text/plain": [
       "   v.id  on road old  on road now  years      km  rating  condition  economy  \\\n",
       "0     1       535651       798186      3   78945       1          2       14   \n",
       "1     2       591911       861056      6  117220       5          9        9   \n",
       "2     3       686990       770762      2  132538       2          8       15   \n",
       "3     4       573999       722381      4  101065       4          3       11   \n",
       "4     5       691388       811335      6   61559       3          9       12   \n",
       "\n",
       "   top speed  hp  torque  current price  \n",
       "0        177  73     123       351318.0  \n",
       "1        148  74      95       285001.5  \n",
       "2        181  53      97       215386.0  \n",
       "3        197  54     116       244295.5  \n",
       "4        160  53     105       531114.5  "
      ]
     },
     "execution_count": 37,
     "metadata": {},
     "output_type": "execute_result"
    }
   ],
   "source": [
    "data = pd.read_csv(r\"C:\\Users\\phana\\VS Code\\TensorFlow-Car Price Prediction\\train.csv\", sep= \",\")\n",
    "data.head()"
   ]
  },
  {
   "cell_type": "code",
   "execution_count": 3,
   "metadata": {},
   "outputs": [
    {
     "data": {
      "text/plain": [
       "(1000, 12)"
      ]
     },
     "execution_count": 3,
     "metadata": {},
     "output_type": "execute_result"
    }
   ],
   "source": [
    "data.shape"
   ]
  },
  {
   "cell_type": "code",
   "execution_count": 4,
   "metadata": {},
   "outputs": [],
   "source": [
    "#sns.pairplot(data[['years', 'km', 'rating', 'condition', 'economy', 'top speed', 'hp', 'torque', 'current price']], diag_kind='kde')"
   ]
  },
  {
   "cell_type": "code",
   "execution_count": 5,
   "metadata": {},
   "outputs": [
    {
     "name": "stdout",
     "output_type": "stream",
     "text": [
      "tf.Tensor(\n",
      "[[1.000000e+00 5.356510e+05 7.981860e+05 ... 7.300000e+01 1.230000e+02\n",
      "  3.513180e+05]\n",
      " [2.000000e+00 5.919110e+05 8.610560e+05 ... 7.400000e+01 9.500000e+01\n",
      "  2.850015e+05]\n",
      " [3.000000e+00 6.869900e+05 7.707620e+05 ... 5.300000e+01 9.700000e+01\n",
      "  2.153860e+05]\n",
      " ...\n",
      " [9.980000e+02 6.463440e+05 8.427330e+05 ... 1.130000e+02 8.900000e+01\n",
      "  4.058710e+05]\n",
      " [9.990000e+02 5.355590e+05 7.324390e+05 ... 1.120000e+02 1.280000e+02\n",
      "  7.439800e+04]\n",
      " [1.000000e+03 5.901050e+05 7.797430e+05 ... 9.900000e+01 9.600000e+01\n",
      "  4.149385e+05]], shape=(1000, 12), dtype=float32)\n"
     ]
    }
   ],
   "source": [
    "tensor_data = tf.constant(data) #Convert the data to a tensor to use in tensorflow and for efficient computation\n",
    "tensor_data = tf.cast(tensor_data, tf.float32) #Cast the tensor to float32 to avoid any compatibility issues, increase accuracy and for efficient computation\n",
    "#if infinities are present in the data after casting, it is probably because of the float type used while casting ( not enough bits to store the number )\n",
    "print(tensor_data)"
   ]
  },
  {
   "cell_type": "code",
   "execution_count": 6,
   "metadata": {},
   "outputs": [
    {
     "name": "stdout",
     "output_type": "stream",
     "text": [
      "tf.Tensor(\n",
      "[[9.700000e+02 5.322320e+05 7.775240e+05 7.000000e+00 8.425200e+04\n",
      "  2.000000e+00 6.000000e+00 1.300000e+01 1.640000e+02 9.500000e+01\n",
      "  7.000000e+01 3.136195e+05]\n",
      " [8.090000e+02 6.405090e+05 7.498930e+05 5.000000e+00 1.434100e+05\n",
      "  1.000000e+00 7.000000e+00 9.000000e+00 1.790000e+02 8.000000e+01\n",
      "  1.200000e+02 1.286325e+05]\n",
      " [6.630000e+02 6.288550e+05 8.719680e+05 3.000000e+00 8.998600e+04\n",
      "  1.000000e+00 9.000000e+00 8.000000e+00 1.510000e+02 1.070000e+02\n",
      "  1.020000e+02 4.200830e+05]\n",
      " [3.660000e+02 5.477690e+05 8.874990e+05 7.000000e+00 1.357910e+05\n",
      "  5.000000e+00 9.000000e+00 1.000000e+01 1.430000e+02 1.040000e+02\n",
      "  1.010000e+02 1.973775e+05]\n",
      " [9.200000e+02 5.218590e+05 7.079390e+05 5.000000e+00 9.755700e+04\n",
      "  3.000000e+00 3.000000e+00 1.200000e+01 1.940000e+02 6.700000e+01\n",
      "  8.100000e+01 2.235945e+05]], shape=(5, 12), dtype=float32)\n"
     ]
    }
   ],
   "source": [
    "tensor_data = tf.random.shuffle(tensor_data) #shuffle the data to avoid any bias in the model\n",
    "print(tensor_data[:5])"
   ]
  },
  {
   "cell_type": "code",
   "execution_count": 7,
   "metadata": {},
   "outputs": [
    {
     "name": "stdout",
     "output_type": "stream",
     "text": [
      "tf.Tensor(\n",
      "[[7.00000e+00 8.42520e+04 2.00000e+00 6.00000e+00 1.30000e+01 1.64000e+02\n",
      "  9.50000e+01 7.00000e+01]\n",
      " [5.00000e+00 1.43410e+05 1.00000e+00 7.00000e+00 9.00000e+00 1.79000e+02\n",
      "  8.00000e+01 1.20000e+02]\n",
      " [3.00000e+00 8.99860e+04 1.00000e+00 9.00000e+00 8.00000e+00 1.51000e+02\n",
      "  1.07000e+02 1.02000e+02]\n",
      " [7.00000e+00 1.35791e+05 5.00000e+00 9.00000e+00 1.00000e+01 1.43000e+02\n",
      "  1.04000e+02 1.01000e+02]\n",
      " [5.00000e+00 9.75570e+04 3.00000e+00 3.00000e+00 1.20000e+01 1.94000e+02\n",
      "  6.70000e+01 8.10000e+01]], shape=(5, 8), dtype=float32)\n"
     ]
    }
   ],
   "source": [
    "X = tensor_data[:,3:-1] \n",
    "#Since we dont need to take into account id, on road old and on road now features, we take all the columns from 3rd to 2nd last. Last column is the output\n",
    "print(X[:5])"
   ]
  },
  {
   "cell_type": "code",
   "execution_count": 8,
   "metadata": {},
   "outputs": [
    {
     "data": {
      "text/plain": [
       "TensorShape([1000, 8])"
      ]
     },
     "execution_count": 8,
     "metadata": {},
     "output_type": "execute_result"
    }
   ],
   "source": [
    "X.shape"
   ]
  },
  {
   "cell_type": "code",
   "execution_count": 9,
   "metadata": {},
   "outputs": [
    {
     "name": "stdout",
     "output_type": "stream",
     "text": [
      "(5,)\n",
      "tf.Tensor(\n",
      "[[313619.5]\n",
      " [128632.5]\n",
      " [420083. ]\n",
      " [197377.5]\n",
      " [223594.5]], shape=(5, 1), dtype=float32)\n"
     ]
    }
   ],
   "source": [
    "y = tensor_data[:,-1]\n",
    "print(y[:5].shape)\n",
    "#shape is originally (5,) but we need it to be (5,1) to be able to use it in the model since X is a 2D tensor\n",
    "y = tf.expand_dims(y, axis = -1) #since the output is a single value, we need to expand the dimensions to make it a 2D tensor\n",
    "print(y[:5])"
   ]
  },
  {
   "cell_type": "markdown",
   "metadata": {},
   "source": [
    "+ Example: How normalization works"
   ]
  },
  {
   "cell_type": "code",
   "execution_count": 10,
   "metadata": {},
   "outputs": [
    {
     "data": {
      "text/plain": [
       "<tf.Tensor: shape=(2, 5), dtype=float32, numpy=\n",
       "array([[-1. , -0.5,  0. ,  0.5,  1. ],\n",
       "       [-0.5,  0. ,  0.5,  1. ,  1.5]], dtype=float32)>"
      ]
     },
     "execution_count": 10,
     "metadata": {},
     "output_type": "execute_result"
    }
   ],
   "source": [
    "#To pass the mean and variance to the normalization layer, we need to make sure the dimensions are the same as the input\n",
    "mean = tf.fill([5,], 5)\n",
    "variance = tf.fill([5,], 4)\n",
    "\n",
    "normalizer = Normalization(axis = -1, mean = mean, variance = variance)\n",
    "x_normalized = tf.constant([[3,4,5,6,7],\n",
    "                            [4,5,6,7,8]])\n",
    "normalizer(x_normalized)"
   ]
  },
  {
   "cell_type": "code",
   "execution_count": 11,
   "metadata": {},
   "outputs": [
    {
     "data": {
      "text/plain": [
       "<tf.Tensor: shape=(3, 5), dtype=float32, numpy=\n",
       "array([[-0.7439795 , -0.26726124, -0.72800297,  0.3922322 ,  0.2672614 ],\n",
       "       [-0.6695816 ,  1.3363062 , -0.6860028 ,  0.9805806 ,  1.0690452 ],\n",
       "       [ 1.4135611 , -1.069045  ,  1.4140056 , -1.3728131 , -1.3363061 ]],\n",
       "      dtype=float32)>"
      ]
     },
     "execution_count": 11,
     "metadata": {},
     "output_type": "execute_result"
    }
   ],
   "source": [
    "normalizer = Normalization()\n",
    "x_normalized = tf.constant([[3,4,5,6,7],\n",
    "                            [4,10,6,7,8],\n",
    "                            [32,1,56,3,5]])\n",
    "normalizer.adapt(x_normalized)  #adapt a new normalization layer ( Calculate the mean and variance ) to the data above ( axis by default is - 1)\n",
    "normalizer(x_normalized)"
   ]
  },
  {
   "cell_type": "markdown",
   "metadata": {},
   "source": [
    "+ Normalizing the input data"
   ]
  },
  {
   "cell_type": "code",
   "execution_count": 12,
   "metadata": {},
   "outputs": [
    {
     "data": {
      "text/plain": [
       "<tf.Tensor: shape=(1000, 8), dtype=float32, numpy=\n",
       "array([[ 1.4194926 , -0.54992086, -0.70466214, ..., -0.15006201,\n",
       "         0.50978523, -1.5879278 ],\n",
       "       [ 0.2554971 ,  1.4804964 , -1.417883  , ...,  0.62799746,\n",
       "        -0.22168376,  0.78757405],\n",
       "       [-0.90849847, -0.35311887, -1.417883  , ..., -0.8243802 ,\n",
       "         1.0949605 , -0.06760662],\n",
       "       ...,\n",
       "       [ 1.4194926 , -1.3315687 ,  0.7217796 , ..., -0.3056739 ,\n",
       "        -1.4407988 , -1.3503777 ],\n",
       "       [-1.4904962 ,  0.31502634,  1.4350004 , ..., -0.40941516,\n",
       "         0.70484364,  0.07492349],\n",
       "       [-1.4904962 ,  1.3404629 ,  0.7217796 , ...,  1.250445  ,\n",
       "        -0.61180055,  0.9776142 ]], dtype=float32)>"
      ]
     },
     "execution_count": 12,
     "metadata": {},
     "output_type": "execute_result"
    }
   ],
   "source": [
    "normalizer = Normalization()\n",
    "normalizer.adapt(X) #adapt the normalization layer to the input data\n",
    "normalizer(X) #normalize the input data"
   ]
  },
  {
   "cell_type": "code",
   "execution_count": 13,
   "metadata": {},
   "outputs": [
    {
     "name": "stdout",
     "output_type": "stream",
     "text": [
      "tf.Tensor(\n",
      "[[7.00000e+00 8.42520e+04 2.00000e+00 6.00000e+00 1.30000e+01 1.64000e+02\n",
      "  9.50000e+01 7.00000e+01]\n",
      " [5.00000e+00 1.43410e+05 1.00000e+00 7.00000e+00 9.00000e+00 1.79000e+02\n",
      "  8.00000e+01 1.20000e+02]\n",
      " [3.00000e+00 8.99860e+04 1.00000e+00 9.00000e+00 8.00000e+00 1.51000e+02\n",
      "  1.07000e+02 1.02000e+02]\n",
      " [7.00000e+00 1.35791e+05 5.00000e+00 9.00000e+00 1.00000e+01 1.43000e+02\n",
      "  1.04000e+02 1.01000e+02]\n",
      " [5.00000e+00 9.75570e+04 3.00000e+00 3.00000e+00 1.20000e+01 1.94000e+02\n",
      "  6.70000e+01 8.10000e+01]], shape=(5, 8), dtype=float32)\n"
     ]
    }
   ],
   "source": [
    "print(X[:5])"
   ]
  },
  {
   "cell_type": "code",
   "execution_count": 14,
   "metadata": {},
   "outputs": [],
   "source": [
    "TRAIN_RATIO = 0.8\n",
    "VAL_RATIO = 0.1\n",
    "TEST_RATIO = 0.1\n",
    "DATASET_SIZE = len(X)"
   ]
  },
  {
   "cell_type": "code",
   "execution_count": 15,
   "metadata": {},
   "outputs": [
    {
     "name": "stdout",
     "output_type": "stream",
     "text": [
      "(800, 8)\n",
      "(800, 1)\n"
     ]
    }
   ],
   "source": [
    "X_train = X[:int(DATASET_SIZE*TRAIN_RATIO)]\n",
    "y_train = y[:int(DATASET_SIZE*TRAIN_RATIO)]\n",
    "print(X_train.shape)\n",
    "print(y_train.shape)"
   ]
  },
  {
   "cell_type": "code",
   "execution_count": 16,
   "metadata": {},
   "outputs": [],
   "source": [
    "train_dataset = tf.data.Dataset.from_tensor_slices((X_train, y_train))  #Convert tensors to dataset object\n",
    "train_dataset = train_dataset.shuffle(buffer_size = 8, reshuffle_each_iteration = True).batch(32).prefetch(tf.data.AUTOTUNE)    #Shuffle the data"
   ]
  },
  {
   "cell_type": "code",
   "execution_count": 17,
   "metadata": {},
   "outputs": [
    {
     "name": "stdout",
     "output_type": "stream",
     "text": [
      "(100, 8)\n",
      "(100, 1)\n"
     ]
    }
   ],
   "source": [
    "X_val = X[int(DATASET_SIZE*TRAIN_RATIO):int(DATASET_SIZE*(TRAIN_RATIO+VAL_RATIO))]\n",
    "y_val = y[int(DATASET_SIZE*TRAIN_RATIO):int(DATASET_SIZE*(TRAIN_RATIO+VAL_RATIO))]\n",
    "print(X_val.shape)\n",
    "print(y_val.shape)"
   ]
  },
  {
   "cell_type": "code",
   "execution_count": 18,
   "metadata": {},
   "outputs": [],
   "source": [
    "val_dataset = tf.data.Dataset.from_tensor_slices((X_val, y_val))\n",
    "val_dataset = train_dataset.shuffle(buffer_size = 8, reshuffle_each_iteration = True).batch(32).prefetch(tf.data.AUTOTUNE)"
   ]
  },
  {
   "cell_type": "code",
   "execution_count": 19,
   "metadata": {},
   "outputs": [
    {
     "name": "stdout",
     "output_type": "stream",
     "text": [
      "(100, 8)\n",
      "(100, 1)\n"
     ]
    }
   ],
   "source": [
    "X_test = X[int(DATASET_SIZE*(TRAIN_RATIO+VAL_RATIO)):]\n",
    "y_test = y[int(DATASET_SIZE*(TRAIN_RATIO+VAL_RATIO)):]\n",
    "print(X_test.shape)\n",
    "print(y_test.shape)"
   ]
  },
  {
   "cell_type": "code",
   "execution_count": 20,
   "metadata": {},
   "outputs": [],
   "source": [
    "test_dataset = tf.data.Dataset.from_tensor_slices((X_test, y_test))\n",
    "test_dataset = train_dataset.shuffle(buffer_size = 8, reshuffle_each_iteration = True).batch(32).prefetch(tf.data.AUTOTUNE)"
   ]
  },
  {
   "cell_type": "code",
   "execution_count": 21,
   "metadata": {},
   "outputs": [
    {
     "data": {
      "text/plain": [
       "<tf.Tensor: shape=(5, 8), dtype=float32, numpy=\n",
       "array([[ 1.4185772 , -0.54918385, -0.7020319 ,  0.12899227,  0.5736926 ,\n",
       "        -0.15890498,  0.5158583 , -1.6021148 ],\n",
       "       [ 0.2564043 ,  1.4827895 , -1.4120516 ,  0.48239598, -1.2103853 ,\n",
       "         0.6219535 , -0.21189855,  0.7827829 ],\n",
       "       [-0.9057686 , -0.35223103, -1.4120516 ,  1.1892034 , -1.6564049 ,\n",
       "        -0.835649  ,  1.0980637 , -0.07578026],\n",
       "       [ 1.4185772 ,  1.2210902 ,  1.428027  ,  1.1892034 , -0.76436585,\n",
       "        -1.2521068 ,  0.9525124 , -0.12347821],\n",
       "       [ 0.2564043 , -0.09218049,  0.00798773, -0.93121886,  0.12767313,\n",
       "         1.402812  , -0.84262115, -1.0774373 ]], dtype=float32)>"
      ]
     },
     "execution_count": 21,
     "metadata": {},
     "output_type": "execute_result"
    }
   ],
   "source": [
    "normalizer = Normalization()\n",
    "normalizer.adapt(X_train)\n",
    "normalizer(X)[:5]"
   ]
  },
  {
   "cell_type": "markdown",
   "metadata": {},
   "source": [
    "# Modelling"
   ]
  },
  {
   "cell_type": "code",
   "execution_count": 22,
   "metadata": {},
   "outputs": [
    {
     "name": "stderr",
     "output_type": "stream",
     "text": [
      "c:\\Users\\phana\\anaconda3\\Lib\\site-packages\\keras\\src\\layers\\core\\input_layer.py:25: UserWarning: Argument `input_shape` is deprecated. Use `shape` instead.\n",
      "  warnings.warn(\n"
     ]
    },
    {
     "data": {
      "text/html": [
       "<pre style=\"white-space:pre;overflow-x:auto;line-height:normal;font-family:Menlo,'DejaVu Sans Mono',consolas,'Courier New',monospace\"><span style=\"font-weight: bold\">Model: \"sequential\"</span>\n",
       "</pre>\n"
      ],
      "text/plain": [
       "\u001b[1mModel: \"sequential\"\u001b[0m\n"
      ]
     },
     "metadata": {},
     "output_type": "display_data"
    },
    {
     "data": {
      "text/html": [
       "<pre style=\"white-space:pre;overflow-x:auto;line-height:normal;font-family:Menlo,'DejaVu Sans Mono',consolas,'Courier New',monospace\">┏━━━━━━━━━━━━━━━━━━━━━━━━━━━━━━━━━┳━━━━━━━━━━━━━━━━━━━━━━━━┳━━━━━━━━━━━━━━━┓\n",
       "┃<span style=\"font-weight: bold\"> Layer (type)                    </span>┃<span style=\"font-weight: bold\"> Output Shape           </span>┃<span style=\"font-weight: bold\">       Param # </span>┃\n",
       "┡━━━━━━━━━━━━━━━━━━━━━━━━━━━━━━━━━╇━━━━━━━━━━━━━━━━━━━━━━━━╇━━━━━━━━━━━━━━━┩\n",
       "│ normalization_3 (<span style=\"color: #0087ff; text-decoration-color: #0087ff\">Normalization</span>) │ (<span style=\"color: #00d7ff; text-decoration-color: #00d7ff\">None</span>, <span style=\"color: #00af00; text-decoration-color: #00af00\">8</span>)              │            <span style=\"color: #00af00; text-decoration-color: #00af00\">17</span> │\n",
       "├─────────────────────────────────┼────────────────────────┼───────────────┤\n",
       "│ dense (<span style=\"color: #0087ff; text-decoration-color: #0087ff\">Dense</span>)                   │ (<span style=\"color: #00d7ff; text-decoration-color: #00d7ff\">None</span>, <span style=\"color: #00af00; text-decoration-color: #00af00\">128</span>)            │         <span style=\"color: #00af00; text-decoration-color: #00af00\">1,152</span> │\n",
       "├─────────────────────────────────┼────────────────────────┼───────────────┤\n",
       "│ dense_1 (<span style=\"color: #0087ff; text-decoration-color: #0087ff\">Dense</span>)                 │ (<span style=\"color: #00d7ff; text-decoration-color: #00d7ff\">None</span>, <span style=\"color: #00af00; text-decoration-color: #00af00\">128</span>)            │        <span style=\"color: #00af00; text-decoration-color: #00af00\">16,512</span> │\n",
       "├─────────────────────────────────┼────────────────────────┼───────────────┤\n",
       "│ dense_2 (<span style=\"color: #0087ff; text-decoration-color: #0087ff\">Dense</span>)                 │ (<span style=\"color: #00d7ff; text-decoration-color: #00d7ff\">None</span>, <span style=\"color: #00af00; text-decoration-color: #00af00\">128</span>)            │        <span style=\"color: #00af00; text-decoration-color: #00af00\">16,512</span> │\n",
       "├─────────────────────────────────┼────────────────────────┼───────────────┤\n",
       "│ dense_3 (<span style=\"color: #0087ff; text-decoration-color: #0087ff\">Dense</span>)                 │ (<span style=\"color: #00d7ff; text-decoration-color: #00d7ff\">None</span>, <span style=\"color: #00af00; text-decoration-color: #00af00\">1</span>)              │           <span style=\"color: #00af00; text-decoration-color: #00af00\">129</span> │\n",
       "└─────────────────────────────────┴────────────────────────┴───────────────┘\n",
       "</pre>\n"
      ],
      "text/plain": [
       "┏━━━━━━━━━━━━━━━━━━━━━━━━━━━━━━━━━┳━━━━━━━━━━━━━━━━━━━━━━━━┳━━━━━━━━━━━━━━━┓\n",
       "┃\u001b[1m \u001b[0m\u001b[1mLayer (type)                   \u001b[0m\u001b[1m \u001b[0m┃\u001b[1m \u001b[0m\u001b[1mOutput Shape          \u001b[0m\u001b[1m \u001b[0m┃\u001b[1m \u001b[0m\u001b[1m      Param #\u001b[0m\u001b[1m \u001b[0m┃\n",
       "┡━━━━━━━━━━━━━━━━━━━━━━━━━━━━━━━━━╇━━━━━━━━━━━━━━━━━━━━━━━━╇━━━━━━━━━━━━━━━┩\n",
       "│ normalization_3 (\u001b[38;5;33mNormalization\u001b[0m) │ (\u001b[38;5;45mNone\u001b[0m, \u001b[38;5;34m8\u001b[0m)              │            \u001b[38;5;34m17\u001b[0m │\n",
       "├─────────────────────────────────┼────────────────────────┼───────────────┤\n",
       "│ dense (\u001b[38;5;33mDense\u001b[0m)                   │ (\u001b[38;5;45mNone\u001b[0m, \u001b[38;5;34m128\u001b[0m)            │         \u001b[38;5;34m1,152\u001b[0m │\n",
       "├─────────────────────────────────┼────────────────────────┼───────────────┤\n",
       "│ dense_1 (\u001b[38;5;33mDense\u001b[0m)                 │ (\u001b[38;5;45mNone\u001b[0m, \u001b[38;5;34m128\u001b[0m)            │        \u001b[38;5;34m16,512\u001b[0m │\n",
       "├─────────────────────────────────┼────────────────────────┼───────────────┤\n",
       "│ dense_2 (\u001b[38;5;33mDense\u001b[0m)                 │ (\u001b[38;5;45mNone\u001b[0m, \u001b[38;5;34m128\u001b[0m)            │        \u001b[38;5;34m16,512\u001b[0m │\n",
       "├─────────────────────────────────┼────────────────────────┼───────────────┤\n",
       "│ dense_3 (\u001b[38;5;33mDense\u001b[0m)                 │ (\u001b[38;5;45mNone\u001b[0m, \u001b[38;5;34m1\u001b[0m)              │           \u001b[38;5;34m129\u001b[0m │\n",
       "└─────────────────────────────────┴────────────────────────┴───────────────┘\n"
      ]
     },
     "metadata": {},
     "output_type": "display_data"
    },
    {
     "data": {
      "text/html": [
       "<pre style=\"white-space:pre;overflow-x:auto;line-height:normal;font-family:Menlo,'DejaVu Sans Mono',consolas,'Courier New',monospace\"><span style=\"font-weight: bold\"> Total params: </span><span style=\"color: #00af00; text-decoration-color: #00af00\">34,322</span> (134.07 KB)\n",
       "</pre>\n"
      ],
      "text/plain": [
       "\u001b[1m Total params: \u001b[0m\u001b[38;5;34m34,322\u001b[0m (134.07 KB)\n"
      ]
     },
     "metadata": {},
     "output_type": "display_data"
    },
    {
     "data": {
      "text/html": [
       "<pre style=\"white-space:pre;overflow-x:auto;line-height:normal;font-family:Menlo,'DejaVu Sans Mono',consolas,'Courier New',monospace\"><span style=\"font-weight: bold\"> Trainable params: </span><span style=\"color: #00af00; text-decoration-color: #00af00\">34,305</span> (134.00 KB)\n",
       "</pre>\n"
      ],
      "text/plain": [
       "\u001b[1m Trainable params: \u001b[0m\u001b[38;5;34m34,305\u001b[0m (134.00 KB)\n"
      ]
     },
     "metadata": {},
     "output_type": "display_data"
    },
    {
     "data": {
      "text/html": [
       "<pre style=\"white-space:pre;overflow-x:auto;line-height:normal;font-family:Menlo,'DejaVu Sans Mono',consolas,'Courier New',monospace\"><span style=\"font-weight: bold\"> Non-trainable params: </span><span style=\"color: #00af00; text-decoration-color: #00af00\">17</span> (72.00 B)\n",
       "</pre>\n"
      ],
      "text/plain": [
       "\u001b[1m Non-trainable params: \u001b[0m\u001b[38;5;34m17\u001b[0m (72.00 B)\n"
      ]
     },
     "metadata": {},
     "output_type": "display_data"
    }
   ],
   "source": [
    "model = tf.keras.Sequential([\n",
    "                             InputLayer(input_shape = (8,)),\n",
    "                             normalizer,\n",
    "                             Dense(128, activation = \"relu\"),\n",
    "                             Dense(128, activation = \"relu\"),\n",
    "                             Dense(128, activation = \"relu\"),\n",
    "                             Dense(1),\n",
    "])\n",
    "model.summary()"
   ]
  },
  {
   "cell_type": "code",
   "execution_count": 23,
   "metadata": {},
   "outputs": [
    {
     "name": "stdout",
     "output_type": "stream",
     "text": [
      "You must install graphviz (see instructions at https://graphviz.gitlab.io/download/) for `plot_model` to work.\n"
     ]
    }
   ],
   "source": [
    "tf.keras.utils.plot_model(model, to_file = \"model.png\", show_shapes=True)"
   ]
  },
  {
   "cell_type": "markdown",
   "metadata": {},
   "source": [
    "# Error sanctioning"
   ]
  },
  {
   "cell_type": "code",
   "execution_count": 24,
   "metadata": {},
   "outputs": [],
   "source": [
    "model.compile(optimizer = Adam(learning_rate = 0.1),\n",
    "              loss = MeanAbsoluteError(),\n",
    "              metrics = [RootMeanSquaredError()])"
   ]
  },
  {
   "cell_type": "code",
   "execution_count": 25,
   "metadata": {},
   "outputs": [
    {
     "data": {
      "text/plain": [
       "<_PrefetchDataset element_spec=(TensorSpec(shape=(None, None, 8), dtype=tf.float32, name=None), TensorSpec(shape=(None, None, 1), dtype=tf.float32, name=None))>"
      ]
     },
     "execution_count": 25,
     "metadata": {},
     "output_type": "execute_result"
    }
   ],
   "source": [
    "val_dataset #Val dataset has shape ( None,None,8 ) which is inappropriate for the model"
   ]
  },
  {
   "cell_type": "code",
   "execution_count": 26,
   "metadata": {},
   "outputs": [],
   "source": [
    "tf.experimental.numpy.experimental_enable_numpy_behavior()  # Enable numpy behaviour for reshape"
   ]
  },
  {
   "cell_type": "code",
   "execution_count": 27,
   "metadata": {},
   "outputs": [],
   "source": [
    "# Reshape the input data to have the correct shape\n",
    "X_val_reshaped = X_val.reshape(-1, 8)\n",
    "\n",
    "val_dataset = tf.data.Dataset.from_tensor_slices((X_val_reshaped, y_val))\n",
    "val_dataset = val_dataset.shuffle(buffer_size=8, reshuffle_each_iteration=True).batch(32).prefetch(tf.data.AUTOTUNE)"
   ]
  },
  {
   "cell_type": "code",
   "execution_count": 28,
   "metadata": {},
   "outputs": [
    {
     "name": "stdout",
     "output_type": "stream",
     "text": [
      "Epoch 1/100\n",
      "\u001b[1m25/25\u001b[0m \u001b[32m━━━━━━━━━━━━━━━━━━━━\u001b[0m\u001b[37m\u001b[0m \u001b[1m2s\u001b[0m 7ms/step - loss: 236909.8281 - root_mean_squared_error: 274087.2500 - val_loss: 74374.8125 - val_root_mean_squared_error: 96295.4531\n",
      "Epoch 2/100\n",
      "\u001b[1m25/25\u001b[0m \u001b[32m━━━━━━━━━━━━━━━━━━━━\u001b[0m\u001b[37m\u001b[0m \u001b[1m0s\u001b[0m 1ms/step - loss: 56984.2148 - root_mean_squared_error: 69969.7578 - val_loss: 47809.1445 - val_root_mean_squared_error: 59171.2031\n",
      "Epoch 3/100\n",
      "\u001b[1m25/25\u001b[0m \u001b[32m━━━━━━━━━━━━━━━━━━━━\u001b[0m\u001b[37m\u001b[0m \u001b[1m0s\u001b[0m 1ms/step - loss: 44339.5273 - root_mean_squared_error: 55948.8477 - val_loss: 41916.0469 - val_root_mean_squared_error: 50445.5547\n",
      "Epoch 4/100\n",
      "\u001b[1m25/25\u001b[0m \u001b[32m━━━━━━━━━━━━━━━━━━━━\u001b[0m\u001b[37m\u001b[0m \u001b[1m0s\u001b[0m 1ms/step - loss: 41526.2500 - root_mean_squared_error: 52276.0234 - val_loss: 41048.2148 - val_root_mean_squared_error: 48357.8359\n",
      "Epoch 5/100\n",
      "\u001b[1m25/25\u001b[0m \u001b[32m━━━━━━━━━━━━━━━━━━━━\u001b[0m\u001b[37m\u001b[0m \u001b[1m0s\u001b[0m 1ms/step - loss: 37514.2031 - root_mean_squared_error: 47716.4336 - val_loss: 58432.5391 - val_root_mean_squared_error: 73187.1875\n",
      "Epoch 6/100\n",
      "\u001b[1m25/25\u001b[0m \u001b[32m━━━━━━━━━━━━━━━━━━━━\u001b[0m\u001b[37m\u001b[0m \u001b[1m0s\u001b[0m 1ms/step - loss: 50229.8828 - root_mean_squared_error: 62425.9961 - val_loss: 44399.4688 - val_root_mean_squared_error: 55158.3086\n",
      "Epoch 7/100\n",
      "\u001b[1m25/25\u001b[0m \u001b[32m━━━━━━━━━━━━━━━━━━━━\u001b[0m\u001b[37m\u001b[0m \u001b[1m0s\u001b[0m 1ms/step - loss: 42982.0078 - root_mean_squared_error: 54810.6445 - val_loss: 42038.7188 - val_root_mean_squared_error: 50440.1602\n",
      "Epoch 8/100\n",
      "\u001b[1m25/25\u001b[0m \u001b[32m━━━━━━━━━━━━━━━━━━━━\u001b[0m\u001b[37m\u001b[0m \u001b[1m0s\u001b[0m 1ms/step - loss: 35547.2891 - root_mean_squared_error: 44912.5039 - val_loss: 42911.2656 - val_root_mean_squared_error: 51394.7383\n",
      "Epoch 9/100\n",
      "\u001b[1m25/25\u001b[0m \u001b[32m━━━━━━━━━━━━━━━━━━━━\u001b[0m\u001b[37m\u001b[0m \u001b[1m0s\u001b[0m 1ms/step - loss: 37596.3047 - root_mean_squared_error: 47757.9141 - val_loss: 46725.3359 - val_root_mean_squared_error: 57282.4766\n",
      "Epoch 10/100\n",
      "\u001b[1m25/25\u001b[0m \u001b[32m━━━━━━━━━━━━━━━━━━━━\u001b[0m\u001b[37m\u001b[0m \u001b[1m0s\u001b[0m 1ms/step - loss: 41353.5859 - root_mean_squared_error: 52601.2930 - val_loss: 42171.3242 - val_root_mean_squared_error: 50694.7305\n",
      "Epoch 11/100\n",
      "\u001b[1m25/25\u001b[0m \u001b[32m━━━━━━━━━━━━━━━━━━━━\u001b[0m\u001b[37m\u001b[0m \u001b[1m0s\u001b[0m 2ms/step - loss: 38570.6562 - root_mean_squared_error: 49806.1797 - val_loss: 44135.5391 - val_root_mean_squared_error: 52887.1836\n",
      "Epoch 12/100\n",
      "\u001b[1m25/25\u001b[0m \u001b[32m━━━━━━━━━━━━━━━━━━━━\u001b[0m\u001b[37m\u001b[0m \u001b[1m0s\u001b[0m 1ms/step - loss: 36904.3047 - root_mean_squared_error: 47010.3672 - val_loss: 40202.4102 - val_root_mean_squared_error: 47795.8398\n",
      "Epoch 13/100\n",
      "\u001b[1m25/25\u001b[0m \u001b[32m━━━━━━━━━━━━━━━━━━━━\u001b[0m\u001b[37m\u001b[0m \u001b[1m0s\u001b[0m 1ms/step - loss: 34903.5898 - root_mean_squared_error: 44939.0703 - val_loss: 40466.8906 - val_root_mean_squared_error: 48887.0664\n",
      "Epoch 14/100\n",
      "\u001b[1m25/25\u001b[0m \u001b[32m━━━━━━━━━━━━━━━━━━━━\u001b[0m\u001b[37m\u001b[0m \u001b[1m0s\u001b[0m 1ms/step - loss: 37198.1016 - root_mean_squared_error: 47689.5664 - val_loss: 48343.7617 - val_root_mean_squared_error: 60705.4844\n",
      "Epoch 15/100\n",
      "\u001b[1m25/25\u001b[0m \u001b[32m━━━━━━━━━━━━━━━━━━━━\u001b[0m\u001b[37m\u001b[0m \u001b[1m0s\u001b[0m 1ms/step - loss: 42291.0430 - root_mean_squared_error: 54290.6562 - val_loss: 42587.8867 - val_root_mean_squared_error: 50934.7266\n",
      "Epoch 16/100\n",
      "\u001b[1m25/25\u001b[0m \u001b[32m━━━━━━━━━━━━━━━━━━━━\u001b[0m\u001b[37m\u001b[0m \u001b[1m0s\u001b[0m 1ms/step - loss: 37851.3242 - root_mean_squared_error: 47691.2109 - val_loss: 45025.3398 - val_root_mean_squared_error: 55820.4688\n",
      "Epoch 17/100\n",
      "\u001b[1m25/25\u001b[0m \u001b[32m━━━━━━━━━━━━━━━━━━━━\u001b[0m\u001b[37m\u001b[0m \u001b[1m0s\u001b[0m 2ms/step - loss: 42663.7734 - root_mean_squared_error: 54093.8438 - val_loss: 41762.1641 - val_root_mean_squared_error: 50029.1016\n",
      "Epoch 18/100\n",
      "\u001b[1m25/25\u001b[0m \u001b[32m━━━━━━━━━━━━━━━━━━━━\u001b[0m\u001b[37m\u001b[0m \u001b[1m0s\u001b[0m 2ms/step - loss: 38266.1055 - root_mean_squared_error: 46673.6055 - val_loss: 40046.4219 - val_root_mean_squared_error: 47019.6758\n",
      "Epoch 19/100\n",
      "\u001b[1m25/25\u001b[0m \u001b[32m━━━━━━━━━━━━━━━━━━━━\u001b[0m\u001b[37m\u001b[0m \u001b[1m0s\u001b[0m 2ms/step - loss: 36011.3555 - root_mean_squared_error: 44839.0859 - val_loss: 39463.5703 - val_root_mean_squared_error: 46716.3789\n",
      "Epoch 20/100\n",
      "\u001b[1m25/25\u001b[0m \u001b[32m━━━━━━━━━━━━━━━━━━━━\u001b[0m\u001b[37m\u001b[0m \u001b[1m0s\u001b[0m 1ms/step - loss: 37412.7344 - root_mean_squared_error: 47547.4766 - val_loss: 40979.1172 - val_root_mean_squared_error: 48230.4297\n",
      "Epoch 21/100\n",
      "\u001b[1m25/25\u001b[0m \u001b[32m━━━━━━━━━━━━━━━━━━━━\u001b[0m\u001b[37m\u001b[0m \u001b[1m0s\u001b[0m 9ms/step - loss: 36901.3711 - root_mean_squared_error: 47063.0508 - val_loss: 47779.6562 - val_root_mean_squared_error: 58735.8555\n",
      "Epoch 22/100\n",
      "\u001b[1m25/25\u001b[0m \u001b[32m━━━━━━━━━━━━━━━━━━━━\u001b[0m\u001b[37m\u001b[0m \u001b[1m0s\u001b[0m 1ms/step - loss: 41779.0859 - root_mean_squared_error: 52999.2500 - val_loss: 38990.7969 - val_root_mean_squared_error: 46807.8086\n",
      "Epoch 23/100\n",
      "\u001b[1m25/25\u001b[0m \u001b[32m━━━━━━━━━━━━━━━━━━━━\u001b[0m\u001b[37m\u001b[0m \u001b[1m0s\u001b[0m 1ms/step - loss: 35560.1367 - root_mean_squared_error: 45796.8398 - val_loss: 43788.2852 - val_root_mean_squared_error: 54071.9336\n",
      "Epoch 24/100\n",
      "\u001b[1m25/25\u001b[0m \u001b[32m━━━━━━━━━━━━━━━━━━━━\u001b[0m\u001b[37m\u001b[0m \u001b[1m0s\u001b[0m 1ms/step - loss: 36994.0508 - root_mean_squared_error: 47831.4297 - val_loss: 58538.5547 - val_root_mean_squared_error: 71931.8984\n",
      "Epoch 25/100\n",
      "\u001b[1m25/25\u001b[0m \u001b[32m━━━━━━━━━━━━━━━━━━━━\u001b[0m\u001b[37m\u001b[0m \u001b[1m0s\u001b[0m 1ms/step - loss: 50210.5078 - root_mean_squared_error: 62761.0391 - val_loss: 37856.4688 - val_root_mean_squared_error: 44910.1836\n",
      "Epoch 26/100\n",
      "\u001b[1m25/25\u001b[0m \u001b[32m━━━━━━━━━━━━━━━━━━━━\u001b[0m\u001b[37m\u001b[0m \u001b[1m0s\u001b[0m 1ms/step - loss: 34605.7344 - root_mean_squared_error: 44052.3945 - val_loss: 40056.9766 - val_root_mean_squared_error: 47468.1133\n",
      "Epoch 27/100\n",
      "\u001b[1m25/25\u001b[0m \u001b[32m━━━━━━━━━━━━━━━━━━━━\u001b[0m\u001b[37m\u001b[0m \u001b[1m0s\u001b[0m 1ms/step - loss: 34340.0195 - root_mean_squared_error: 43613.4023 - val_loss: 37894.3945 - val_root_mean_squared_error: 45964.6172\n",
      "Epoch 28/100\n",
      "\u001b[1m25/25\u001b[0m \u001b[32m━━━━━━━━━━━━━━━━━━━━\u001b[0m\u001b[37m\u001b[0m \u001b[1m0s\u001b[0m 1ms/step - loss: 34600.1094 - root_mean_squared_error: 43573.3594 - val_loss: 38747.5234 - val_root_mean_squared_error: 47095.2461\n",
      "Epoch 29/100\n",
      "\u001b[1m25/25\u001b[0m \u001b[32m━━━━━━━━━━━━━━━━━━━━\u001b[0m\u001b[37m\u001b[0m \u001b[1m0s\u001b[0m 1ms/step - loss: 35899.3555 - root_mean_squared_error: 45807.2109 - val_loss: 48748.5859 - val_root_mean_squared_error: 60413.8906\n",
      "Epoch 30/100\n",
      "\u001b[1m25/25\u001b[0m \u001b[32m━━━━━━━━━━━━━━━━━━━━\u001b[0m\u001b[37m\u001b[0m \u001b[1m0s\u001b[0m 1ms/step - loss: 41356.1992 - root_mean_squared_error: 51919.0078 - val_loss: 50670.4609 - val_root_mean_squared_error: 63268.9609\n",
      "Epoch 31/100\n",
      "\u001b[1m25/25\u001b[0m \u001b[32m━━━━━━━━━━━━━━━━━━━━\u001b[0m\u001b[37m\u001b[0m \u001b[1m0s\u001b[0m 1ms/step - loss: 43469.3750 - root_mean_squared_error: 54856.5781 - val_loss: 38099.3633 - val_root_mean_squared_error: 45380.0352\n",
      "Epoch 32/100\n",
      "\u001b[1m25/25\u001b[0m \u001b[32m━━━━━━━━━━━━━━━━━━━━\u001b[0m\u001b[37m\u001b[0m \u001b[1m0s\u001b[0m 1ms/step - loss: 33217.4570 - root_mean_squared_error: 42020.4844 - val_loss: 36297.5781 - val_root_mean_squared_error: 44970.2422\n",
      "Epoch 33/100\n",
      "\u001b[1m25/25\u001b[0m \u001b[32m━━━━━━━━━━━━━━━━━━━━\u001b[0m\u001b[37m\u001b[0m \u001b[1m0s\u001b[0m 1ms/step - loss: 33707.5664 - root_mean_squared_error: 43075.5430 - val_loss: 36990.3125 - val_root_mean_squared_error: 45907.3281\n",
      "Epoch 34/100\n",
      "\u001b[1m25/25\u001b[0m \u001b[32m━━━━━━━━━━━━━━━━━━━━\u001b[0m\u001b[37m\u001b[0m \u001b[1m0s\u001b[0m 1ms/step - loss: 34901.2891 - root_mean_squared_error: 44781.9180 - val_loss: 41633.7812 - val_root_mean_squared_error: 52096.7383\n",
      "Epoch 35/100\n",
      "\u001b[1m25/25\u001b[0m \u001b[32m━━━━━━━━━━━━━━━━━━━━\u001b[0m\u001b[37m\u001b[0m \u001b[1m0s\u001b[0m 1ms/step - loss: 37428.6797 - root_mean_squared_error: 47744.8203 - val_loss: 40584.4688 - val_root_mean_squared_error: 49806.6289\n",
      "Epoch 36/100\n",
      "\u001b[1m25/25\u001b[0m \u001b[32m━━━━━━━━━━━━━━━━━━━━\u001b[0m\u001b[37m\u001b[0m \u001b[1m0s\u001b[0m 1ms/step - loss: 40123.2969 - root_mean_squared_error: 50601.6875 - val_loss: 53702.9961 - val_root_mean_squared_error: 66805.8438\n",
      "Epoch 37/100\n",
      "\u001b[1m25/25\u001b[0m \u001b[32m━━━━━━━━━━━━━━━━━━━━\u001b[0m\u001b[37m\u001b[0m \u001b[1m0s\u001b[0m 1ms/step - loss: 43536.5469 - root_mean_squared_error: 54786.9609 - val_loss: 42360.5898 - val_root_mean_squared_error: 53296.2656\n",
      "Epoch 38/100\n",
      "\u001b[1m25/25\u001b[0m \u001b[32m━━━━━━━━━━━━━━━━━━━━\u001b[0m\u001b[37m\u001b[0m \u001b[1m0s\u001b[0m 1ms/step - loss: 40100.3750 - root_mean_squared_error: 51328.9727 - val_loss: 36391.4375 - val_root_mean_squared_error: 44569.3008\n",
      "Epoch 39/100\n",
      "\u001b[1m25/25\u001b[0m \u001b[32m━━━━━━━━━━━━━━━━━━━━\u001b[0m\u001b[37m\u001b[0m \u001b[1m0s\u001b[0m 1ms/step - loss: 33920.7188 - root_mean_squared_error: 43312.0664 - val_loss: 37538.4219 - val_root_mean_squared_error: 46036.0664\n",
      "Epoch 40/100\n",
      "\u001b[1m25/25\u001b[0m \u001b[32m━━━━━━━━━━━━━━━━━━━━\u001b[0m\u001b[37m\u001b[0m \u001b[1m0s\u001b[0m 1ms/step - loss: 33768.4648 - root_mean_squared_error: 43516.0000 - val_loss: 34518.9336 - val_root_mean_squared_error: 42850.4805\n",
      "Epoch 41/100\n",
      "\u001b[1m25/25\u001b[0m \u001b[32m━━━━━━━━━━━━━━━━━━━━\u001b[0m\u001b[37m\u001b[0m \u001b[1m0s\u001b[0m 1ms/step - loss: 31469.5508 - root_mean_squared_error: 40047.4219 - val_loss: 35523.9062 - val_root_mean_squared_error: 43721.4648\n",
      "Epoch 42/100\n",
      "\u001b[1m25/25\u001b[0m \u001b[32m━━━━━━━━━━━━━━━━━━━━\u001b[0m\u001b[37m\u001b[0m \u001b[1m0s\u001b[0m 1ms/step - loss: 33984.1211 - root_mean_squared_error: 43853.7109 - val_loss: 38846.1367 - val_root_mean_squared_error: 47287.8789\n",
      "Epoch 43/100\n",
      "\u001b[1m25/25\u001b[0m \u001b[32m━━━━━━━━━━━━━━━━━━━━\u001b[0m\u001b[37m\u001b[0m \u001b[1m0s\u001b[0m 1ms/step - loss: 34023.3867 - root_mean_squared_error: 43197.8359 - val_loss: 38405.4688 - val_root_mean_squared_error: 47354.9805\n",
      "Epoch 44/100\n",
      "\u001b[1m25/25\u001b[0m \u001b[32m━━━━━━━━━━━━━━━━━━━━\u001b[0m\u001b[37m\u001b[0m \u001b[1m0s\u001b[0m 1ms/step - loss: 35389.8242 - root_mean_squared_error: 44225.9336 - val_loss: 65141.0195 - val_root_mean_squared_error: 81230.4141\n",
      "Epoch 45/100\n",
      "\u001b[1m25/25\u001b[0m \u001b[32m━━━━━━━━━━━━━━━━━━━━\u001b[0m\u001b[37m\u001b[0m \u001b[1m0s\u001b[0m 1ms/step - loss: 48717.9062 - root_mean_squared_error: 62371.2461 - val_loss: 36883.8867 - val_root_mean_squared_error: 45064.6016\n",
      "Epoch 46/100\n",
      "\u001b[1m25/25\u001b[0m \u001b[32m━━━━━━━━━━━━━━━━━━━━\u001b[0m\u001b[37m\u001b[0m \u001b[1m0s\u001b[0m 1ms/step - loss: 32751.3398 - root_mean_squared_error: 40451.7383 - val_loss: 39828.9062 - val_root_mean_squared_error: 50048.8984\n",
      "Epoch 47/100\n",
      "\u001b[1m25/25\u001b[0m \u001b[32m━━━━━━━━━━━━━━━━━━━━\u001b[0m\u001b[37m\u001b[0m \u001b[1m0s\u001b[0m 1ms/step - loss: 34456.6055 - root_mean_squared_error: 43828.6016 - val_loss: 49545.7812 - val_root_mean_squared_error: 62472.0664\n",
      "Epoch 48/100\n",
      "\u001b[1m25/25\u001b[0m \u001b[32m━━━━━━━━━━━━━━━━━━━━\u001b[0m\u001b[37m\u001b[0m \u001b[1m0s\u001b[0m 1ms/step - loss: 38237.4414 - root_mean_squared_error: 49019.5039 - val_loss: 36998.6953 - val_root_mean_squared_error: 46799.1172\n",
      "Epoch 49/100\n",
      "\u001b[1m25/25\u001b[0m \u001b[32m━━━━━━━━━━━━━━━━━━━━\u001b[0m\u001b[37m\u001b[0m \u001b[1m0s\u001b[0m 1ms/step - loss: 33891.8359 - root_mean_squared_error: 43087.2188 - val_loss: 36456.3867 - val_root_mean_squared_error: 45975.7188\n",
      "Epoch 50/100\n",
      "\u001b[1m25/25\u001b[0m \u001b[32m━━━━━━━━━━━━━━━━━━━━\u001b[0m\u001b[37m\u001b[0m \u001b[1m0s\u001b[0m 1ms/step - loss: 31609.8125 - root_mean_squared_error: 41059.0352 - val_loss: 40508.6484 - val_root_mean_squared_error: 50152.8711\n",
      "Epoch 51/100\n",
      "\u001b[1m25/25\u001b[0m \u001b[32m━━━━━━━━━━━━━━━━━━━━\u001b[0m\u001b[37m\u001b[0m \u001b[1m0s\u001b[0m 1ms/step - loss: 31687.5137 - root_mean_squared_error: 41414.3672 - val_loss: 38381.1406 - val_root_mean_squared_error: 48062.3906\n",
      "Epoch 52/100\n",
      "\u001b[1m25/25\u001b[0m \u001b[32m━━━━━━━━━━━━━━━━━━━━\u001b[0m\u001b[37m\u001b[0m \u001b[1m0s\u001b[0m 1ms/step - loss: 34084.6016 - root_mean_squared_error: 43405.5977 - val_loss: 38152.7188 - val_root_mean_squared_error: 48539.5977\n",
      "Epoch 53/100\n",
      "\u001b[1m25/25\u001b[0m \u001b[32m━━━━━━━━━━━━━━━━━━━━\u001b[0m\u001b[37m\u001b[0m \u001b[1m0s\u001b[0m 1ms/step - loss: 36001.7773 - root_mean_squared_error: 45454.0742 - val_loss: 38076.0898 - val_root_mean_squared_error: 47272.2812\n",
      "Epoch 54/100\n",
      "\u001b[1m25/25\u001b[0m \u001b[32m━━━━━━━━━━━━━━━━━━━━\u001b[0m\u001b[37m\u001b[0m \u001b[1m0s\u001b[0m 1ms/step - loss: 32711.5098 - root_mean_squared_error: 41770.4961 - val_loss: 41918.3750 - val_root_mean_squared_error: 51376.3438\n",
      "Epoch 55/100\n",
      "\u001b[1m25/25\u001b[0m \u001b[32m━━━━━━━━━━━━━━━━━━━━\u001b[0m\u001b[37m\u001b[0m \u001b[1m0s\u001b[0m 1ms/step - loss: 31977.9863 - root_mean_squared_error: 41589.4609 - val_loss: 36848.8516 - val_root_mean_squared_error: 46518.5781\n",
      "Epoch 56/100\n",
      "\u001b[1m25/25\u001b[0m \u001b[32m━━━━━━━━━━━━━━━━━━━━\u001b[0m\u001b[37m\u001b[0m \u001b[1m0s\u001b[0m 1ms/step - loss: 32862.8164 - root_mean_squared_error: 42431.8789 - val_loss: 36037.8594 - val_root_mean_squared_error: 45261.0586\n",
      "Epoch 57/100\n",
      "\u001b[1m25/25\u001b[0m \u001b[32m━━━━━━━━━━━━━━━━━━━━\u001b[0m\u001b[37m\u001b[0m \u001b[1m0s\u001b[0m 1ms/step - loss: 32740.8789 - root_mean_squared_error: 42148.3203 - val_loss: 42065.0039 - val_root_mean_squared_error: 51417.4414\n",
      "Epoch 58/100\n",
      "\u001b[1m25/25\u001b[0m \u001b[32m━━━━━━━━━━━━━━━━━━━━\u001b[0m\u001b[37m\u001b[0m \u001b[1m0s\u001b[0m 1ms/step - loss: 32205.1172 - root_mean_squared_error: 40859.4570 - val_loss: 45086.3164 - val_root_mean_squared_error: 55355.1562\n",
      "Epoch 59/100\n",
      "\u001b[1m25/25\u001b[0m \u001b[32m━━━━━━━━━━━━━━━━━━━━\u001b[0m\u001b[37m\u001b[0m \u001b[1m0s\u001b[0m 1ms/step - loss: 33477.1602 - root_mean_squared_error: 43221.5430 - val_loss: 44320.5195 - val_root_mean_squared_error: 54619.1289\n",
      "Epoch 60/100\n",
      "\u001b[1m25/25\u001b[0m \u001b[32m━━━━━━━━━━━━━━━━━━━━\u001b[0m\u001b[37m\u001b[0m \u001b[1m0s\u001b[0m 1ms/step - loss: 35037.6484 - root_mean_squared_error: 45375.2500 - val_loss: 39414.1953 - val_root_mean_squared_error: 48287.2930\n",
      "Epoch 61/100\n",
      "\u001b[1m25/25\u001b[0m \u001b[32m━━━━━━━━━━━━━━━━━━━━\u001b[0m\u001b[37m\u001b[0m \u001b[1m0s\u001b[0m 1ms/step - loss: 32138.9395 - root_mean_squared_error: 40770.4219 - val_loss: 45586.3164 - val_root_mean_squared_error: 56407.3672\n",
      "Epoch 62/100\n",
      "\u001b[1m25/25\u001b[0m \u001b[32m━━━━━━━━━━━━━━━━━━━━\u001b[0m\u001b[37m\u001b[0m \u001b[1m0s\u001b[0m 1ms/step - loss: 37502.7969 - root_mean_squared_error: 48012.4961 - val_loss: 38987.7500 - val_root_mean_squared_error: 50021.9609\n",
      "Epoch 63/100\n",
      "\u001b[1m25/25\u001b[0m \u001b[32m━━━━━━━━━━━━━━━━━━━━\u001b[0m\u001b[37m\u001b[0m \u001b[1m0s\u001b[0m 2ms/step - loss: 33815.5391 - root_mean_squared_error: 42440.7969 - val_loss: 41088.4531 - val_root_mean_squared_error: 51235.6250\n",
      "Epoch 64/100\n",
      "\u001b[1m25/25\u001b[0m \u001b[32m━━━━━━━━━━━━━━━━━━━━\u001b[0m\u001b[37m\u001b[0m \u001b[1m0s\u001b[0m 1ms/step - loss: 33140.0469 - root_mean_squared_error: 42187.2148 - val_loss: 42142.1406 - val_root_mean_squared_error: 53173.5938\n",
      "Epoch 65/100\n",
      "\u001b[1m25/25\u001b[0m \u001b[32m━━━━━━━━━━━━━━━━━━━━\u001b[0m\u001b[37m\u001b[0m \u001b[1m0s\u001b[0m 1ms/step - loss: 32763.8418 - root_mean_squared_error: 41953.4102 - val_loss: 40582.2031 - val_root_mean_squared_error: 51178.9453\n",
      "Epoch 66/100\n",
      "\u001b[1m25/25\u001b[0m \u001b[32m━━━━━━━━━━━━━━━━━━━━\u001b[0m\u001b[37m\u001b[0m \u001b[1m0s\u001b[0m 1ms/step - loss: 30028.3848 - root_mean_squared_error: 39229.3008 - val_loss: 41151.2383 - val_root_mean_squared_error: 52101.5273\n",
      "Epoch 67/100\n",
      "\u001b[1m25/25\u001b[0m \u001b[32m━━━━━━━━━━━━━━━━━━━━\u001b[0m\u001b[37m\u001b[0m \u001b[1m0s\u001b[0m 1ms/step - loss: 30349.3398 - root_mean_squared_error: 39232.1250 - val_loss: 46145.0156 - val_root_mean_squared_error: 57142.7891\n",
      "Epoch 68/100\n",
      "\u001b[1m25/25\u001b[0m \u001b[32m━━━━━━━━━━━━━━━━━━━━\u001b[0m\u001b[37m\u001b[0m \u001b[1m0s\u001b[0m 1ms/step - loss: 33414.9453 - root_mean_squared_error: 43127.6172 - val_loss: 42984.7812 - val_root_mean_squared_error: 53287.4180\n",
      "Epoch 69/100\n",
      "\u001b[1m25/25\u001b[0m \u001b[32m━━━━━━━━━━━━━━━━━━━━\u001b[0m\u001b[37m\u001b[0m \u001b[1m0s\u001b[0m 1ms/step - loss: 33834.6797 - root_mean_squared_error: 43756.3398 - val_loss: 39061.7539 - val_root_mean_squared_error: 49849.3750\n",
      "Epoch 70/100\n",
      "\u001b[1m25/25\u001b[0m \u001b[32m━━━━━━━━━━━━━━━━━━━━\u001b[0m\u001b[37m\u001b[0m \u001b[1m0s\u001b[0m 1ms/step - loss: 31338.1406 - root_mean_squared_error: 39948.3125 - val_loss: 39566.4453 - val_root_mean_squared_error: 49597.8750\n",
      "Epoch 71/100\n",
      "\u001b[1m25/25\u001b[0m \u001b[32m━━━━━━━━━━━━━━━━━━━━\u001b[0m\u001b[37m\u001b[0m \u001b[1m0s\u001b[0m 1ms/step - loss: 33496.4219 - root_mean_squared_error: 42455.4336 - val_loss: 47793.0352 - val_root_mean_squared_error: 60239.8203\n",
      "Epoch 72/100\n",
      "\u001b[1m25/25\u001b[0m \u001b[32m━━━━━━━━━━━━━━━━━━━━\u001b[0m\u001b[37m\u001b[0m \u001b[1m0s\u001b[0m 1ms/step - loss: 37495.1367 - root_mean_squared_error: 47679.8516 - val_loss: 39654.0156 - val_root_mean_squared_error: 50498.5078\n",
      "Epoch 73/100\n",
      "\u001b[1m25/25\u001b[0m \u001b[32m━━━━━━━━━━━━━━━━━━━━\u001b[0m\u001b[37m\u001b[0m \u001b[1m0s\u001b[0m 1ms/step - loss: 32627.5332 - root_mean_squared_error: 41425.4414 - val_loss: 39569.9805 - val_root_mean_squared_error: 50242.6797\n",
      "Epoch 74/100\n",
      "\u001b[1m25/25\u001b[0m \u001b[32m━━━━━━━━━━━━━━━━━━━━\u001b[0m\u001b[37m\u001b[0m \u001b[1m0s\u001b[0m 1ms/step - loss: 33796.0781 - root_mean_squared_error: 43014.9453 - val_loss: 47582.8945 - val_root_mean_squared_error: 59643.0352\n",
      "Epoch 75/100\n",
      "\u001b[1m25/25\u001b[0m \u001b[32m━━━━━━━━━━━━━━━━━━━━\u001b[0m\u001b[37m\u001b[0m \u001b[1m0s\u001b[0m 1ms/step - loss: 36279.1211 - root_mean_squared_error: 46380.3164 - val_loss: 44971.2109 - val_root_mean_squared_error: 55650.4805\n",
      "Epoch 76/100\n",
      "\u001b[1m25/25\u001b[0m \u001b[32m━━━━━━━━━━━━━━━━━━━━\u001b[0m\u001b[37m\u001b[0m \u001b[1m0s\u001b[0m 1ms/step - loss: 36468.6328 - root_mean_squared_error: 46829.9336 - val_loss: 53354.6797 - val_root_mean_squared_error: 64936.5156\n",
      "Epoch 77/100\n",
      "\u001b[1m25/25\u001b[0m \u001b[32m━━━━━━━━━━━━━━━━━━━━\u001b[0m\u001b[37m\u001b[0m \u001b[1m0s\u001b[0m 1ms/step - loss: 39695.7539 - root_mean_squared_error: 50739.8555 - val_loss: 49290.9219 - val_root_mean_squared_error: 59394.9258\n",
      "Epoch 78/100\n",
      "\u001b[1m25/25\u001b[0m \u001b[32m━━━━━━━━━━━━━━━━━━━━\u001b[0m\u001b[37m\u001b[0m \u001b[1m0s\u001b[0m 1ms/step - loss: 37940.7266 - root_mean_squared_error: 48291.0742 - val_loss: 44432.9805 - val_root_mean_squared_error: 55381.4336\n",
      "Epoch 79/100\n",
      "\u001b[1m25/25\u001b[0m \u001b[32m━━━━━━━━━━━━━━━━━━━━\u001b[0m\u001b[37m\u001b[0m \u001b[1m0s\u001b[0m 1ms/step - loss: 37959.2773 - root_mean_squared_error: 48715.0078 - val_loss: 37596.7891 - val_root_mean_squared_error: 49630.3398\n",
      "Epoch 80/100\n",
      "\u001b[1m25/25\u001b[0m \u001b[32m━━━━━━━━━━━━━━━━━━━━\u001b[0m\u001b[37m\u001b[0m \u001b[1m0s\u001b[0m 1ms/step - loss: 36693.1016 - root_mean_squared_error: 47366.6367 - val_loss: 37121.2539 - val_root_mean_squared_error: 46792.0469\n",
      "Epoch 81/100\n",
      "\u001b[1m25/25\u001b[0m \u001b[32m━━━━━━━━━━━━━━━━━━━━\u001b[0m\u001b[37m\u001b[0m \u001b[1m0s\u001b[0m 2ms/step - loss: 33243.4531 - root_mean_squared_error: 43326.8047 - val_loss: 36836.2617 - val_root_mean_squared_error: 48521.8320\n",
      "Epoch 82/100\n",
      "\u001b[1m25/25\u001b[0m \u001b[32m━━━━━━━━━━━━━━━━━━━━\u001b[0m\u001b[37m\u001b[0m \u001b[1m0s\u001b[0m 1ms/step - loss: 33376.4961 - root_mean_squared_error: 43424.8477 - val_loss: 36860.7305 - val_root_mean_squared_error: 47705.6953\n",
      "Epoch 83/100\n",
      "\u001b[1m25/25\u001b[0m \u001b[32m━━━━━━━━━━━━━━━━━━━━\u001b[0m\u001b[37m\u001b[0m \u001b[1m0s\u001b[0m 1ms/step - loss: 30534.9590 - root_mean_squared_error: 39933.5625 - val_loss: 37608.6289 - val_root_mean_squared_error: 48357.8984\n",
      "Epoch 84/100\n",
      "\u001b[1m25/25\u001b[0m \u001b[32m━━━━━━━━━━━━━━━━━━━━\u001b[0m\u001b[37m\u001b[0m \u001b[1m0s\u001b[0m 1ms/step - loss: 28903.4355 - root_mean_squared_error: 37763.4219 - val_loss: 38213.0273 - val_root_mean_squared_error: 48737.3008\n",
      "Epoch 85/100\n",
      "\u001b[1m25/25\u001b[0m \u001b[32m━━━━━━━━━━━━━━━━━━━━\u001b[0m\u001b[37m\u001b[0m \u001b[1m0s\u001b[0m 1ms/step - loss: 29275.8086 - root_mean_squared_error: 38055.2578 - val_loss: 37658.2930 - val_root_mean_squared_error: 48095.1836\n",
      "Epoch 86/100\n",
      "\u001b[1m25/25\u001b[0m \u001b[32m━━━━━━━━━━━━━━━━━━━━\u001b[0m\u001b[37m\u001b[0m \u001b[1m0s\u001b[0m 1ms/step - loss: 27880.1582 - root_mean_squared_error: 35709.7305 - val_loss: 39288.3008 - val_root_mean_squared_error: 49908.7617\n",
      "Epoch 87/100\n",
      "\u001b[1m25/25\u001b[0m \u001b[32m━━━━━━━━━━━━━━━━━━━━\u001b[0m\u001b[37m\u001b[0m \u001b[1m0s\u001b[0m 1ms/step - loss: 28286.9883 - root_mean_squared_error: 37178.8203 - val_loss: 37620.8789 - val_root_mean_squared_error: 47708.9258\n",
      "Epoch 88/100\n",
      "\u001b[1m25/25\u001b[0m \u001b[32m━━━━━━━━━━━━━━━━━━━━\u001b[0m\u001b[37m\u001b[0m \u001b[1m0s\u001b[0m 1ms/step - loss: 27600.4062 - root_mean_squared_error: 36266.2500 - val_loss: 42178.7148 - val_root_mean_squared_error: 53796.2070\n",
      "Epoch 89/100\n",
      "\u001b[1m25/25\u001b[0m \u001b[32m━━━━━━━━━━━━━━━━━━━━\u001b[0m\u001b[37m\u001b[0m \u001b[1m0s\u001b[0m 1ms/step - loss: 33242.7656 - root_mean_squared_error: 42175.8203 - val_loss: 51570.7383 - val_root_mean_squared_error: 62648.8945\n",
      "Epoch 90/100\n",
      "\u001b[1m25/25\u001b[0m \u001b[32m━━━━━━━━━━━━━━━━━━━━\u001b[0m\u001b[37m\u001b[0m \u001b[1m0s\u001b[0m 1ms/step - loss: 34964.6758 - root_mean_squared_error: 45099.9023 - val_loss: 47296.4766 - val_root_mean_squared_error: 59062.4102\n",
      "Epoch 91/100\n",
      "\u001b[1m25/25\u001b[0m \u001b[32m━━━━━━━━━━━━━━━━━━━━\u001b[0m\u001b[37m\u001b[0m \u001b[1m0s\u001b[0m 1ms/step - loss: 34704.4141 - root_mean_squared_error: 43969.9375 - val_loss: 45684.0156 - val_root_mean_squared_error: 57601.3633\n",
      "Epoch 92/100\n",
      "\u001b[1m25/25\u001b[0m \u001b[32m━━━━━━━━━━━━━━━━━━━━\u001b[0m\u001b[37m\u001b[0m \u001b[1m0s\u001b[0m 1ms/step - loss: 31148.8301 - root_mean_squared_error: 40560.0000 - val_loss: 43961.8711 - val_root_mean_squared_error: 55784.7695\n",
      "Epoch 93/100\n",
      "\u001b[1m25/25\u001b[0m \u001b[32m━━━━━━━━━━━━━━━━━━━━\u001b[0m\u001b[37m\u001b[0m \u001b[1m0s\u001b[0m 1ms/step - loss: 32061.1230 - root_mean_squared_error: 42074.8477 - val_loss: 41427.9805 - val_root_mean_squared_error: 52422.8008\n",
      "Epoch 94/100\n",
      "\u001b[1m25/25\u001b[0m \u001b[32m━━━━━━━━━━━━━━━━━━━━\u001b[0m\u001b[37m\u001b[0m \u001b[1m0s\u001b[0m 1ms/step - loss: 29463.8887 - root_mean_squared_error: 38627.3047 - val_loss: 38504.1094 - val_root_mean_squared_error: 49020.6562\n",
      "Epoch 95/100\n",
      "\u001b[1m25/25\u001b[0m \u001b[32m━━━━━━━━━━━━━━━━━━━━\u001b[0m\u001b[37m\u001b[0m \u001b[1m0s\u001b[0m 1ms/step - loss: 27199.3535 - root_mean_squared_error: 35768.0898 - val_loss: 41029.2617 - val_root_mean_squared_error: 52004.4258\n",
      "Epoch 96/100\n",
      "\u001b[1m25/25\u001b[0m \u001b[32m━━━━━━━━━━━━━━━━━━━━\u001b[0m\u001b[37m\u001b[0m \u001b[1m0s\u001b[0m 1ms/step - loss: 28794.3086 - root_mean_squared_error: 38252.9180 - val_loss: 43576.1055 - val_root_mean_squared_error: 54906.5820\n",
      "Epoch 97/100\n",
      "\u001b[1m25/25\u001b[0m \u001b[32m━━━━━━━━━━━━━━━━━━━━\u001b[0m\u001b[37m\u001b[0m \u001b[1m0s\u001b[0m 1ms/step - loss: 28278.3359 - root_mean_squared_error: 37569.1836 - val_loss: 41729.0508 - val_root_mean_squared_error: 52030.8594\n",
      "Epoch 98/100\n",
      "\u001b[1m25/25\u001b[0m \u001b[32m━━━━━━━━━━━━━━━━━━━━\u001b[0m\u001b[37m\u001b[0m \u001b[1m0s\u001b[0m 1ms/step - loss: 29155.1133 - root_mean_squared_error: 38372.2461 - val_loss: 40796.4766 - val_root_mean_squared_error: 51458.3203\n",
      "Epoch 99/100\n",
      "\u001b[1m25/25\u001b[0m \u001b[32m━━━━━━━━━━━━━━━━━━━━\u001b[0m\u001b[37m\u001b[0m \u001b[1m0s\u001b[0m 1ms/step - loss: 29067.8633 - root_mean_squared_error: 37971.1680 - val_loss: 40810.4141 - val_root_mean_squared_error: 51318.7812\n",
      "Epoch 100/100\n",
      "\u001b[1m25/25\u001b[0m \u001b[32m━━━━━━━━━━━━━━━━━━━━\u001b[0m\u001b[37m\u001b[0m \u001b[1m0s\u001b[0m 2ms/step - loss: 27449.3496 - root_mean_squared_error: 36588.2461 - val_loss: 41812.3555 - val_root_mean_squared_error: 53208.9883\n"
     ]
    }
   ],
   "source": [
    "history = model.fit(train_dataset, validation_data=val_dataset, epochs = 100, verbose = 1)"
   ]
  },
  {
   "cell_type": "markdown",
   "metadata": {},
   "source": [
    "# Training and Optimization"
   ]
  },
  {
   "cell_type": "code",
   "execution_count": 29,
   "metadata": {},
   "outputs": [
    {
     "data": {
      "image/png": "[encoded data removed]",
      "text/plain": [
       "<Figure size 640x480 with 1 Axes>"
      ]
     },
     "metadata": {},
     "output_type": "display_data"
    }
   ],
   "source": [
    "plt.plot(history.history['loss'])\n",
    "plt.plot(history.history['val_loss'])\n",
    "plt.title('model loss')\n",
    "plt.ylabel('loss')\n",
    "plt.xlabel('epoch')\n",
    "plt.legend(['train', 'val_loss'])\n",
    "plt.show()"
   ]
  },
  {
   "cell_type": "code",
   "execution_count": 30,
   "metadata": {},
   "outputs": [
    {
     "data": {
      "image/png": "[encoded data removed]",
      "text/plain": [
       "<Figure size 640x480 with 1 Axes>"
      ]
     },
     "metadata": {},
     "output_type": "display_data"
    }
   ],
   "source": [
    "plt.plot(history.history['root_mean_squared_error'])\n",
    "plt.plot(history.history['val_root_mean_squared_error'])\n",
    "plt.title('model performance')\n",
    "plt.ylabel('rmse')\n",
    "plt.xlabel('epoch')\n",
    "plt.legend(['train', 'val'])\n",
    "plt.show()"
   ]
  },
  {
   "cell_type": "markdown",
   "metadata": {},
   "source": [
    "# Model Evaluation and Testing"
   ]
  },
  {
   "cell_type": "code",
   "execution_count": 31,
   "metadata": {},
   "outputs": [
    {
     "name": "stdout",
     "output_type": "stream",
     "text": [
      "\u001b[1m4/4\u001b[0m \u001b[32m━━━━━━━━━━━━━━━━━━━━\u001b[0m\u001b[37m\u001b[0m \u001b[1m0s\u001b[0m 1ms/step - loss: 42746.0508 - root_mean_squared_error: 51144.4570 \n"
     ]
    },
    {
     "data": {
      "text/plain": [
       "[43694.30859375, 53398.12890625]"
      ]
     },
     "execution_count": 31,
     "metadata": {},
     "output_type": "execute_result"
    }
   ],
   "source": [
    "model.evaluate(X_test,y_test)"
   ]
  },
  {
   "cell_type": "code",
   "execution_count": 32,
   "metadata": {},
   "outputs": [
    {
     "data": {
      "text/plain": [
       "TensorShape([100, 8])"
      ]
     },
     "execution_count": 32,
     "metadata": {},
     "output_type": "execute_result"
    }
   ],
   "source": [
    "X_test.shape"
   ]
  },
  {
   "cell_type": "code",
   "execution_count": 33,
   "metadata": {},
   "outputs": [
    {
     "data": {
      "text/plain": [
       "<tf.Tensor: shape=(1,), dtype=float32, numpy=array([486308.5], dtype=float32)>"
      ]
     },
     "execution_count": 33,
     "metadata": {},
     "output_type": "execute_result"
    }
   ],
   "source": [
    "y_test[0]   #shape is (1,) but we dont need it to be a 2D tensor"
   ]
  },
  {
   "cell_type": "code",
   "execution_count": 34,
   "metadata": {},
   "outputs": [],
   "source": [
    "y_true = list(y_test[:,0].numpy())  #Convert the tensor to a list ((:,0) to remove the extra dimension)"
   ]
  },
  {
   "cell_type": "code",
   "execution_count": 35,
   "metadata": {},
   "outputs": [
    {
     "name": "stdout",
     "output_type": "stream",
     "text": [
      "\u001b[1m4/4\u001b[0m \u001b[32m━━━━━━━━━━━━━━━━━━━━\u001b[0m\u001b[37m\u001b[0m \u001b[1m0s\u001b[0m 15ms/step\n",
      "[531353.7, 497542.0, 211598.14, 154074.08, 177359.64, 238998.97, 153150.8, 290028.4, 139692.11, 260577.72, 282935.4, 481082.97, 366254.53, 402415.16, 412538.34, 573874.2, 536580.75, 200315.84, 223605.05, 519026.3, 529198.3, 146152.7, 252543.31, 401601.78, 316241.34, 291294.66, 218014.48, 244515.19, 206984.08, 96176.445, 448619.72, 384437.7, 482526.2, 255313.75, 334234.34, 180662.69, 242152.44, 327584.34, 316710.44, 313238.6, 182085.02, 100174.1, 422522.72, 317397.28, 337670.53, 131074.98, 344869.7, 315420.72, 366625.97, 210319.22, 464492.47, 508304.9, 117841.67, 329034.16, 470486.47, 450253.94, 436505.4, 563301.44, 151695.34, 374752.1, 346296.34, 490330.22, 536570.25, 375901.84, 522964.8, 439433.34, 296746.3, 203031.0, 209538.16, 149543.92, 146532.11, 135343.7, 573504.0, 374744.34, 383229.4, 319173.84, 517507.66, 131014.68, 477616.9, 215328.98, 476912.22, 454009.03, 291828.38, 430531.06, 72820.35, 257775.02, 331689.12, 82888.56, 220514.08, 471832.44, 390110.47, 341643.1, 544378.5, 521554.88, 410329.5, 524698.1, 254276.56, 509603.22, 242522.42, 256820.45]\n"
     ]
    }
   ],
   "source": [
    "y_pred = list(model.predict(X_test)[:,0])\n",
    "print(y_pred)"
   ]
  },
  {
   "cell_type": "code",
   "execution_count": 36,
   "metadata": {},
   "outputs": [
    {
     "data": {
      "image/png": "[encoded data removed]",
      "text/plain": [
       "<Figure size 4000x2000 with 1 Axes>"
      ]
     },
     "metadata": {},
     "output_type": "display_data"
    }
   ],
   "source": [
    "ind = np.arange(100)\n",
    "plt.figure(figsize=(40,20))\n",
    "\n",
    "width = 0.1\n",
    "\n",
    "plt.bar(ind, y_pred, width, label='Predicted Car Price')\n",
    "plt.bar(ind + width, y_true, width, label='Actual Car Price')\n",
    "\n",
    "plt.xlabel('Actual vs Predicted Prices')\n",
    "plt.ylabel('Car Price Prices')\n",
    "\n",
    "plt.show()"
   ]
  }
 ],
 "metadata": {
  "kernelspec": {
   "display_name": "base",
   "language": "python",
   "name": "python3"
  },
  "language_info": {
   "codemirror_mode": {
    "name": "ipython",
    "version": 3
   },
   "file_extension": ".py",
   "mimetype": "text/x-python",
   "name": "python",
   "nbconvert_exporter": "python",
   "pygments_lexer": "ipython3",
   "version": "3.11.7"
  }
 },
 "nbformat": 4,
 "nbformat_minor": 2
}
