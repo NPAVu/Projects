{
 "cells": [
  {
   "cell_type": "markdown",
   "metadata": {},
   "source": [
    "# Import Libraries"
   ]
  },
  {
   "cell_type": "code",
   "execution_count": 1,
   "metadata": {},
   "outputs": [],
   "source": [
    "import numpy as np\n",
    "import pandas as pd\n",
    "from sklearn.preprocessing import StandardScaler\n",
    "from imblearn.over_sampling import RandomOverSampler\n",
    "from sklearn.metrics import classification_report, log_loss   \n",
    "from sklearn.linear_model import LogisticRegression\n",
    "from sklearn.model_selection import GridSearchCV, StratifiedKFold"
   ]
  },
  {
   "cell_type": "markdown",
   "metadata": {},
   "source": [
    "# Data Preprocessing"
   ]
  },
  {
   "cell_type": "code",
   "execution_count": 2,
   "metadata": {},
   "outputs": [],
   "source": [
    "df = pd.read_csv(\"datanewfinal02.csv\") "
   ]
  },
  {
   "cell_type": "code",
   "execution_count": 3,
   "metadata": {},
   "outputs": [],
   "source": [
    "df_dom = df.drop([\"diff%\",\"Ez\",\"Medium\",\"Hard\"], axis=1)"
   ]
  },
  {
   "cell_type": "code",
   "execution_count": 4,
   "metadata": {},
   "outputs": [
    {
     "data": {
      "text/html": [
       "<div>\n",
       "<style scoped>\n",
       "    .dataframe tbody tr th:only-of-type {\n",
       "        vertical-align: middle;\n",
       "    }\n",
       "\n",
       "    .dataframe tbody tr th {\n",
       "        vertical-align: top;\n",
       "    }\n",
       "\n",
       "    .dataframe thead th {\n",
       "        text-align: right;\n",
       "    }\n",
       "</style>\n",
       "<table border=\"1\" class=\"dataframe\">\n",
       "  <thead>\n",
       "    <tr style=\"text-align: right;\">\n",
       "      <th></th>\n",
       "      <th>Algebra</th>\n",
       "      <th>Adv Math</th>\n",
       "      <th>PsDA</th>\n",
       "      <th>Geometry</th>\n",
       "      <th>dom%</th>\n",
       "    </tr>\n",
       "  </thead>\n",
       "  <tbody>\n",
       "    <tr>\n",
       "      <th>0</th>\n",
       "      <td>0.71</td>\n",
       "      <td>0.52</td>\n",
       "      <td>0.67</td>\n",
       "      <td>0.67</td>\n",
       "      <td>4</td>\n",
       "    </tr>\n",
       "    <tr>\n",
       "      <th>1</th>\n",
       "      <td>0.52</td>\n",
       "      <td>0.86</td>\n",
       "      <td>0.78</td>\n",
       "      <td>0.89</td>\n",
       "      <td>19</td>\n",
       "    </tr>\n",
       "    <tr>\n",
       "      <th>2</th>\n",
       "      <td>0.71</td>\n",
       "      <td>0.90</td>\n",
       "      <td>0.56</td>\n",
       "      <td>0.89</td>\n",
       "      <td>16</td>\n",
       "    </tr>\n",
       "    <tr>\n",
       "      <th>3</th>\n",
       "      <td>0.67</td>\n",
       "      <td>0.81</td>\n",
       "      <td>0.78</td>\n",
       "      <td>0.44</td>\n",
       "      <td>15</td>\n",
       "    </tr>\n",
       "    <tr>\n",
       "      <th>4</th>\n",
       "      <td>0.62</td>\n",
       "      <td>0.95</td>\n",
       "      <td>0.44</td>\n",
       "      <td>0.44</td>\n",
       "      <td>14</td>\n",
       "    </tr>\n",
       "    <tr>\n",
       "      <th>...</th>\n",
       "      <td>...</td>\n",
       "      <td>...</td>\n",
       "      <td>...</td>\n",
       "      <td>...</td>\n",
       "      <td>...</td>\n",
       "    </tr>\n",
       "    <tr>\n",
       "      <th>1995</th>\n",
       "      <td>0.71</td>\n",
       "      <td>0.48</td>\n",
       "      <td>0.89</td>\n",
       "      <td>0.44</td>\n",
       "      <td>17</td>\n",
       "    </tr>\n",
       "    <tr>\n",
       "      <th>1996</th>\n",
       "      <td>0.81</td>\n",
       "      <td>0.76</td>\n",
       "      <td>0.44</td>\n",
       "      <td>0.78</td>\n",
       "      <td>1</td>\n",
       "    </tr>\n",
       "    <tr>\n",
       "      <th>1997</th>\n",
       "      <td>0.67</td>\n",
       "      <td>0.90</td>\n",
       "      <td>0.78</td>\n",
       "      <td>0.67</td>\n",
       "      <td>0</td>\n",
       "    </tr>\n",
       "    <tr>\n",
       "      <th>1998</th>\n",
       "      <td>0.90</td>\n",
       "      <td>1.00</td>\n",
       "      <td>1.00</td>\n",
       "      <td>0.44</td>\n",
       "      <td>21</td>\n",
       "    </tr>\n",
       "    <tr>\n",
       "      <th>1999</th>\n",
       "      <td>1.00</td>\n",
       "      <td>1.00</td>\n",
       "      <td>0.44</td>\n",
       "      <td>0.56</td>\n",
       "      <td>12</td>\n",
       "    </tr>\n",
       "  </tbody>\n",
       "</table>\n",
       "<p>2000 rows × 5 columns</p>\n",
       "</div>"
      ],
      "text/plain": [
       "      Algebra  Adv Math  PsDA  Geometry  dom%\n",
       "0        0.71      0.52  0.67      0.67     4\n",
       "1        0.52      0.86  0.78      0.89    19\n",
       "2        0.71      0.90  0.56      0.89    16\n",
       "3        0.67      0.81  0.78      0.44    15\n",
       "4        0.62      0.95  0.44      0.44    14\n",
       "...       ...       ...   ...       ...   ...\n",
       "1995     0.71      0.48  0.89      0.44    17\n",
       "1996     0.81      0.76  0.44      0.78     1\n",
       "1997     0.67      0.90  0.78      0.67     0\n",
       "1998     0.90      1.00  1.00      0.44    21\n",
       "1999     1.00      1.00  0.44      0.56    12\n",
       "\n",
       "[2000 rows x 5 columns]"
      ]
     },
     "execution_count": 4,
     "metadata": {},
     "output_type": "execute_result"
    }
   ],
   "source": [
    "df_dom"
   ]
  },
  {
   "cell_type": "code",
   "execution_count": 5,
   "metadata": {},
   "outputs": [],
   "source": [
    "df_diff = df.drop([\"Algebra\",\"Adv Math\",\"PsDA\",\"Geometry\",\"dom%\"], axis=1)"
   ]
  },
  {
   "cell_type": "code",
   "execution_count": 6,
   "metadata": {},
   "outputs": [
    {
     "data": {
      "text/html": [
       "<div>\n",
       "<style scoped>\n",
       "    .dataframe tbody tr th:only-of-type {\n",
       "        vertical-align: middle;\n",
       "    }\n",
       "\n",
       "    .dataframe tbody tr th {\n",
       "        vertical-align: top;\n",
       "    }\n",
       "\n",
       "    .dataframe thead th {\n",
       "        text-align: right;\n",
       "    }\n",
       "</style>\n",
       "<table border=\"1\" class=\"dataframe\">\n",
       "  <thead>\n",
       "    <tr style=\"text-align: right;\">\n",
       "      <th></th>\n",
       "      <th>Ez</th>\n",
       "      <th>Medium</th>\n",
       "      <th>Hard</th>\n",
       "      <th>diff%</th>\n",
       "    </tr>\n",
       "  </thead>\n",
       "  <tbody>\n",
       "    <tr>\n",
       "      <th>0</th>\n",
       "      <td>0.88</td>\n",
       "      <td>0.91</td>\n",
       "      <td>0.58</td>\n",
       "      <td>10</td>\n",
       "    </tr>\n",
       "    <tr>\n",
       "      <th>1</th>\n",
       "      <td>0.63</td>\n",
       "      <td>0.78</td>\n",
       "      <td>0.33</td>\n",
       "      <td>3</td>\n",
       "    </tr>\n",
       "    <tr>\n",
       "      <th>2</th>\n",
       "      <td>0.56</td>\n",
       "      <td>0.91</td>\n",
       "      <td>0.17</td>\n",
       "      <td>9</td>\n",
       "    </tr>\n",
       "    <tr>\n",
       "      <th>3</th>\n",
       "      <td>0.75</td>\n",
       "      <td>0.56</td>\n",
       "      <td>0.50</td>\n",
       "      <td>2</td>\n",
       "    </tr>\n",
       "    <tr>\n",
       "      <th>4</th>\n",
       "      <td>1.00</td>\n",
       "      <td>0.81</td>\n",
       "      <td>0.33</td>\n",
       "      <td>4</td>\n",
       "    </tr>\n",
       "    <tr>\n",
       "      <th>...</th>\n",
       "      <td>...</td>\n",
       "      <td>...</td>\n",
       "      <td>...</td>\n",
       "      <td>...</td>\n",
       "    </tr>\n",
       "    <tr>\n",
       "      <th>1995</th>\n",
       "      <td>0.81</td>\n",
       "      <td>0.69</td>\n",
       "      <td>0.42</td>\n",
       "      <td>2</td>\n",
       "    </tr>\n",
       "    <tr>\n",
       "      <th>1996</th>\n",
       "      <td>0.56</td>\n",
       "      <td>0.66</td>\n",
       "      <td>0.42</td>\n",
       "      <td>3</td>\n",
       "    </tr>\n",
       "    <tr>\n",
       "      <th>1997</th>\n",
       "      <td>0.88</td>\n",
       "      <td>0.84</td>\n",
       "      <td>0.08</td>\n",
       "      <td>4</td>\n",
       "    </tr>\n",
       "    <tr>\n",
       "      <th>1998</th>\n",
       "      <td>1.00</td>\n",
       "      <td>0.44</td>\n",
       "      <td>0.50</td>\n",
       "      <td>2</td>\n",
       "    </tr>\n",
       "    <tr>\n",
       "      <th>1999</th>\n",
       "      <td>0.50</td>\n",
       "      <td>0.56</td>\n",
       "      <td>0.83</td>\n",
       "      <td>7</td>\n",
       "    </tr>\n",
       "  </tbody>\n",
       "</table>\n",
       "<p>2000 rows × 4 columns</p>\n",
       "</div>"
      ],
      "text/plain": [
       "        Ez  Medium  Hard  diff%\n",
       "0     0.88    0.91  0.58     10\n",
       "1     0.63    0.78  0.33      3\n",
       "2     0.56    0.91  0.17      9\n",
       "3     0.75    0.56  0.50      2\n",
       "4     1.00    0.81  0.33      4\n",
       "...    ...     ...   ...    ...\n",
       "1995  0.81    0.69  0.42      2\n",
       "1996  0.56    0.66  0.42      3\n",
       "1997  0.88    0.84  0.08      4\n",
       "1998  1.00    0.44  0.50      2\n",
       "1999  0.50    0.56  0.83      7\n",
       "\n",
       "[2000 rows x 4 columns]"
      ]
     },
     "execution_count": 6,
     "metadata": {},
     "output_type": "execute_result"
    }
   ],
   "source": [
    "df_diff"
   ]
  },
  {
   "cell_type": "code",
   "execution_count": 7,
   "metadata": {},
   "outputs": [],
   "source": [
    "def scale_dataset(dataframe, oversample = False):\n",
    "    X = dataframe[dataframe.columns[:-1]].values   #set x as every columns except the last\n",
    "    y = dataframe[dataframe.columns[-1]].values    #set y to be the last column\n",
    "\n",
    "    scaler = StandardScaler()   #fit and transform x so it scales with other inputs\n",
    "    X = scaler.fit_transform(X)\n",
    "\n",
    "    if oversample:\n",
    "        ros = RandomOverSampler()\n",
    "        X,y = ros.fit_resample(X,y)        #Take the less class & keep sampling so that the smaller class would match\n",
    "    \n",
    "    data = np.hstack((X, np.reshape(y, (-1, 1))))        #horizontally stack arrays & reshape y into 2 dimensional (-1 being the length of y)\n",
    "\n",
    "    return data, X, y, scaler"
   ]
  },
  {
   "cell_type": "markdown",
   "metadata": {},
   "source": [
    "# Data Splitting"
   ]
  },
  {
   "cell_type": "markdown",
   "metadata": {},
   "source": [
    "+ 1: Domain Classification"
   ]
  },
  {
   "cell_type": "code",
   "execution_count": 8,
   "metadata": {},
   "outputs": [],
   "source": [
    "train1, test1 = np.split(df_dom.sample(frac=1),[int(0.8*len(df_dom))])"
   ]
  },
  {
   "cell_type": "code",
   "execution_count": 9,
   "metadata": {},
   "outputs": [],
   "source": [
    "train1 = pd.DataFrame(train1)  # Convert numpy array to pandas DataFrame\n",
    "train1, X1_train, y1_train,scaler_dom = scale_dataset(train1, oversample=True)\n",
    "test1, X1_test, y1_test,scaler01 = scale_dataset(test1, oversample=False)"
   ]
  },
  {
   "cell_type": "code",
   "execution_count": 10,
   "metadata": {},
   "outputs": [
    {
     "data": {
      "text/plain": [
       "array([[ 1.32317198, -1.53601969,  0.30999771, -0.3098758 ],\n",
       "       [ 1.63271304,  0.76247154, -0.84543636, -0.3098758 ],\n",
       "       [-0.71979905,  1.30685104, -0.26771933, -0.3098758 ],\n",
       "       ...,\n",
       "       [ 0.14691593, -0.68920713,  1.46543178,  0.85808952],\n",
       "       [ 0.14691593, -1.29407324,  1.46543178,  1.44207218],\n",
       "       [-0.41025799, -0.38677408,  1.46543178,  0.85808952]])"
      ]
     },
     "execution_count": 10,
     "metadata": {},
     "output_type": "execute_result"
    }
   ],
   "source": [
    "X1_train"
   ]
  },
  {
   "cell_type": "markdown",
   "metadata": {},
   "source": [
    "+ 2: Difficulty Classification"
   ]
  },
  {
   "cell_type": "code",
   "execution_count": 11,
   "metadata": {},
   "outputs": [],
   "source": [
    "train2, test2 = np.split(df_diff.sample(frac=1),[int(0.8*len(df_diff))])"
   ]
  },
  {
   "cell_type": "code",
   "execution_count": 12,
   "metadata": {},
   "outputs": [],
   "source": [
    "train2 = pd.DataFrame(train2)  # Convert numpy array to pandas DataFrame"
   ]
  },
  {
   "cell_type": "code",
   "execution_count": 13,
   "metadata": {},
   "outputs": [],
   "source": [
    "train2, X2_train, y2_train, scaler_diff = scale_dataset(train2, oversample=True)\n",
    "test2, X2_test, y2_test, scaler02 = scale_dataset(test2, oversample=False)"
   ]
  },
  {
   "cell_type": "code",
   "execution_count": 14,
   "metadata": {},
   "outputs": [
    {
     "data": {
      "text/plain": [
       "array([[ 1.19211757,  0.98256706,  1.3208981 ],\n",
       "       [-1.50574398, -0.14218493, -1.37907611],\n",
       "       [-0.70864852, -0.31977735, -0.02908901],\n",
       "       ...,\n",
       "       [ 1.19211757,  1.69293674, -0.28622941],\n",
       "       [ 0.82422736,  1.69293674, -0.28622941],\n",
       "       [ 1.19211757,  0.98256706, -0.28622941]])"
      ]
     },
     "execution_count": 14,
     "metadata": {},
     "output_type": "execute_result"
    }
   ],
   "source": [
    "X2_train"
   ]
  },
  {
   "cell_type": "markdown",
   "metadata": {},
   "source": [
    "# Hyperparameter Tuning"
   ]
  },
  {
   "cell_type": "markdown",
   "metadata": {},
   "source": [
    "+ 1: Domain Classification"
   ]
  },
  {
   "cell_type": "code",
   "execution_count": 15,
   "metadata": {},
   "outputs": [
    {
     "name": "stdout",
     "output_type": "stream",
     "text": [
      "Best Parameters: {'C': 1000}\n"
     ]
    }
   ],
   "source": [
    "# Logistic Regression model\n",
    "log_reg1 = LogisticRegression(random_state=1111)\n",
    "\n",
    "# Parameter grid\n",
    "param_grid = {'C': [0.01, 0.1, 1, 10, 100, 1000]}\n",
    "\n",
    "# Stratified K-Fold cross-validation\n",
    "cv = StratifiedKFold(n_splits=10, shuffle=True, random_state=42)\n",
    "\n",
    "# Grid Search with fixed random state\n",
    "grid_search = GridSearchCV(log_reg1, param_grid, cv=cv, scoring='accuracy', n_jobs=-1)\n",
    "grid_search.fit(X1_train, y1_train)\n",
    "\n",
    "# Best parameters\n",
    "print(\"Best Parameters:\", grid_search.best_params_)"
   ]
  },
  {
   "cell_type": "markdown",
   "metadata": {},
   "source": [
    "+ 2: Difficulty Classification"
   ]
  },
  {
   "cell_type": "code",
   "execution_count": 16,
   "metadata": {},
   "outputs": [
    {
     "name": "stdout",
     "output_type": "stream",
     "text": [
      "Best Parameters: {'C': 1000}\n"
     ]
    }
   ],
   "source": [
    "# Logistic Regression model\n",
    "log_reg2 = LogisticRegression(random_state=1111)\n",
    "\n",
    "# Parameter grid\n",
    "param_grid = {'C': [0.01, 0.1, 1, 10, 100,1000]}\n",
    "\n",
    "# Stratified K-Fold cross-validation\n",
    "cv = StratifiedKFold(n_splits=10, shuffle=True, random_state=42)\n",
    "\n",
    "# Grid Search with fixed random state\n",
    "grid_search = GridSearchCV(log_reg1, param_grid, cv=cv, scoring='accuracy', n_jobs=-1)\n",
    "grid_search.fit(X2_train, y2_train)\n",
    "\n",
    "# Best parameters\n",
    "print(\"Best Parameters:\", grid_search.best_params_)"
   ]
  },
  {
   "cell_type": "markdown",
   "metadata": {},
   "source": [
    "# Model Deploy"
   ]
  },
  {
   "cell_type": "markdown",
   "metadata": {},
   "source": [
    "+ 1: Domain Classification"
   ]
  },
  {
   "cell_type": "code",
   "execution_count": 17,
   "metadata": {},
   "outputs": [],
   "source": [
    "lg_dom_model = LogisticRegression(C=1000, random_state=1111)\n",
    "lg_dom_model = lg_dom_model.fit(X1_train, y1_train)\n",
    "\n",
    "y1_pred = lg_dom_model.predict(X1_test)"
   ]
  },
  {
   "cell_type": "markdown",
   "metadata": {},
   "source": [
    "+ 2: Difficulty Classification"
   ]
  },
  {
   "cell_type": "code",
   "execution_count": 18,
   "metadata": {},
   "outputs": [],
   "source": [
    "lg_diff_model = LogisticRegression(C=1000, random_state=1111)\n",
    "lg_diff_model = lg_diff_model.fit(X2_train, y2_train)\n",
    "\n",
    "y2_pred = lg_diff_model.predict(X2_test)"
   ]
  },
  {
   "cell_type": "markdown",
   "metadata": {},
   "source": [
    "# Model Evaluation"
   ]
  },
  {
   "cell_type": "markdown",
   "metadata": {},
   "source": [
    "+ 1: Domain Classification"
   ]
  },
  {
   "cell_type": "code",
   "execution_count": 19,
   "metadata": {},
   "outputs": [
    {
     "name": "stdout",
     "output_type": "stream",
     "text": [
      "              precision    recall  f1-score   support\n",
      "\n",
      "           0       1.00      1.00      1.00        97\n",
      "           1       1.00      1.00      1.00        97\n",
      "           2       1.00      1.00      1.00        97\n",
      "           3       1.00      1.00      1.00        97\n",
      "           4       1.00      1.00      1.00        97\n",
      "           5       1.00      1.00      1.00        97\n",
      "           6       1.00      1.00      1.00        97\n",
      "           7       1.00      1.00      1.00        97\n",
      "           8       1.00      1.00      1.00        97\n",
      "           9       1.00      1.00      1.00        97\n",
      "          10       1.00      1.00      1.00        97\n",
      "          11       1.00      1.00      1.00        97\n",
      "          12       1.00      1.00      1.00        97\n",
      "          13       1.00      1.00      1.00        97\n",
      "          14       1.00      1.00      1.00        97\n",
      "          15       1.00      1.00      1.00        97\n",
      "          16       1.00      1.00      1.00        97\n",
      "          17       1.00      1.00      1.00        97\n",
      "          18       1.00      1.00      1.00        97\n",
      "          19       1.00      1.00      1.00        97\n",
      "          20       1.00      1.00      1.00        97\n",
      "          21       1.00      1.00      1.00        97\n",
      "          22       1.00      1.00      1.00        97\n",
      "          23       1.00      1.00      1.00        97\n",
      "\n",
      "    accuracy                           1.00      2328\n",
      "   macro avg       1.00      1.00      1.00      2328\n",
      "weighted avg       1.00      1.00      1.00      2328\n",
      "\n"
     ]
    }
   ],
   "source": [
    "print(classification_report(y1_train, lg_dom_model.predict(X1_train)))"
   ]
  },
  {
   "cell_type": "code",
   "execution_count": 20,
   "metadata": {},
   "outputs": [
    {
     "name": "stdout",
     "output_type": "stream",
     "text": [
      "              precision    recall  f1-score   support\n",
      "\n",
      "           0       1.00      1.00      1.00        18\n",
      "           1       0.96      1.00      0.98        22\n",
      "           2       1.00      1.00      1.00        21\n",
      "           3       1.00      1.00      1.00        15\n",
      "           4       0.94      1.00      0.97        16\n",
      "           5       1.00      1.00      1.00        11\n",
      "           6       1.00      1.00      1.00        18\n",
      "           7       1.00      1.00      1.00        10\n",
      "           8       1.00      1.00      1.00        18\n",
      "           9       0.92      1.00      0.96        12\n",
      "          10       0.90      0.82      0.86        11\n",
      "          11       1.00      1.00      1.00        11\n",
      "          12       1.00      0.94      0.97        16\n",
      "          13       1.00      1.00      1.00        14\n",
      "          14       1.00      0.93      0.97        15\n",
      "          15       1.00      1.00      1.00        21\n",
      "          16       1.00      0.94      0.97        16\n",
      "          17       1.00      1.00      1.00        20\n",
      "          18       1.00      1.00      1.00        16\n",
      "          19       1.00      1.00      1.00        24\n",
      "          20       1.00      1.00      1.00        17\n",
      "          21       1.00      1.00      1.00        19\n",
      "          22       0.95      1.00      0.98        21\n",
      "          23       1.00      1.00      1.00        18\n",
      "\n",
      "    accuracy                           0.99       400\n",
      "   macro avg       0.99      0.98      0.99       400\n",
      "weighted avg       0.99      0.99      0.99       400\n",
      "\n"
     ]
    }
   ],
   "source": [
    "print(classification_report(y1_test,y1_pred)) "
   ]
  },
  {
   "cell_type": "code",
   "execution_count": 21,
   "metadata": {},
   "outputs": [
    {
     "name": "stdout",
     "output_type": "stream",
     "text": [
      "Logarithmic Loss: 0.029266259061158248\n"
     ]
    }
   ],
   "source": [
    "# Assuming X_train and y_train are your training features and labels\n",
    "# Assuming X_test is your test features\n",
    "# Assuming model is your logistic regression model object\n",
    "\n",
    "# Fit the logistic regression model\n",
    "lg_dom_model.fit(X1_train, y1_train)\n",
    "\n",
    "# Predict probabilities for the test data\n",
    "y1_pred_prob = lg_dom_model.predict_proba(X1_test)\n",
    "\n",
    "# The predicted probabilities will be a 2D array where each row corresponds to a sample in X_test\n",
    "# and each column contains the probability of that sample belonging to each class\n",
    "# In binary classification, the second column typically represents the probability of the positive class\n",
    "\n",
    "# Now you can calculate the log-loss\n",
    "logloss = log_loss(y1_test, y1_pred_prob)\n",
    "print(\"Logarithmic Loss:\", logloss)"
   ]
  },
  {
   "cell_type": "markdown",
   "metadata": {},
   "source": [
    "+ 2: Difficulty Classification"
   ]
  },
  {
   "cell_type": "code",
   "execution_count": 22,
   "metadata": {},
   "outputs": [
    {
     "name": "stdout",
     "output_type": "stream",
     "text": [
      "              precision    recall  f1-score   support\n",
      "\n",
      "           0       0.99      1.00      1.00       154\n",
      "           1       1.00      1.00      1.00       154\n",
      "           2       1.00      1.00      1.00       154\n",
      "           3       1.00      1.00      1.00       154\n",
      "           4       1.00      1.00      1.00       154\n",
      "           5       1.00      1.00      1.00       154\n",
      "           6       1.00      1.00      1.00       154\n",
      "           7       1.00      1.00      1.00       154\n",
      "           8       1.00      0.99      1.00       154\n",
      "           9       1.00      1.00      1.00       154\n",
      "          10       1.00      1.00      1.00       154\n",
      "          11       1.00      1.00      1.00       154\n",
      "\n",
      "    accuracy                           1.00      1848\n",
      "   macro avg       1.00      1.00      1.00      1848\n",
      "weighted avg       1.00      1.00      1.00      1848\n",
      "\n"
     ]
    }
   ],
   "source": [
    "print(classification_report(y2_train, lg_diff_model.predict(X2_train)))"
   ]
  },
  {
   "cell_type": "code",
   "execution_count": 23,
   "metadata": {},
   "outputs": [
    {
     "name": "stdout",
     "output_type": "stream",
     "text": [
      "              precision    recall  f1-score   support\n",
      "\n",
      "           0       0.88      1.00      0.93        28\n",
      "           1       1.00      1.00      1.00        27\n",
      "           2       1.00      0.95      0.97        38\n",
      "           3       0.86      0.97      0.91        38\n",
      "           4       1.00      0.92      0.96        37\n",
      "           5       1.00      0.95      0.97        38\n",
      "           6       0.94      0.97      0.95        32\n",
      "           7       1.00      0.96      0.98        28\n",
      "           8       0.97      0.89      0.93        37\n",
      "           9       0.90      1.00      0.95        26\n",
      "          10       1.00      0.89      0.94        36\n",
      "          11       0.95      1.00      0.97        35\n",
      "\n",
      "    accuracy                           0.95       400\n",
      "   macro avg       0.96      0.96      0.96       400\n",
      "weighted avg       0.96      0.95      0.96       400\n",
      "\n"
     ]
    }
   ],
   "source": [
    "print(classification_report(y2_test,y2_pred)) "
   ]
  },
  {
   "cell_type": "code",
   "execution_count": 24,
   "metadata": {},
   "outputs": [
    {
     "name": "stdout",
     "output_type": "stream",
     "text": [
      "Logarithmic Loss: 0.09781714774372585\n"
     ]
    }
   ],
   "source": [
    "# Assuming X_train and y_train are your training features and labels\n",
    "# Assuming X_test is your test features\n",
    "# Assuming model is your logistic regression model object\n",
    "\n",
    "# Fit the logistic regression model\n",
    "lg_diff_model.fit(X2_train, y2_train)\n",
    "\n",
    "# Predict probabilities for the test data\n",
    "y2_pred_prob = lg_diff_model.predict_proba(X2_test)\n",
    "\n",
    "# The predicted probabilities will be a 2D array where each row corresponds to a sample in X_test\n",
    "# and each column contains the probability of that sample belonging to each class\n",
    "# In binary classification, the second column typically represents the probability of the positive class\n",
    "\n",
    "# Now you can calculate the log-loss\n",
    "logloss = log_loss(y2_test, y2_pred_prob)\n",
    "print(\"Logarithmic Loss:\", logloss)"
   ]
  },
  {
   "cell_type": "markdown",
   "metadata": {},
   "source": [
    "# Outputs"
   ]
  },
  {
   "cell_type": "code",
   "execution_count": 25,
   "metadata": {},
   "outputs": [],
   "source": [
    "def feedback_diff(predicted):\n",
    "    if predicted == 0:\n",
    "        return \"Bạn đang sai nhiều ở các câu có độ khó được đánh giá ỏ mức Easy, trong khi đó bạn lại trả lời đúng ở các câu có độ khó được đánh giá ở mức Medium và Hard. Nguyên nhân của việc này thường là do sự thiếu cẩn thận, hoặc thiếu sót trong kiến thức cơ bản. Để khắc phục, bạn hãy ôn lại kĩ lý thuyết cũng như cẩn thận hơn trong quá trình làm bài. \"\n",
    "    elif predicted == 1:\n",
    "        return \"Bạn đã nắm khá chắc các kiến thức cơ bản, và đã có thể vận dụng để làm các câu có độ khó được đánh giá ở mức Medium và Hard. Tuy nhiên các câu hỏi có độ khó Hard có vẻ vẫn đang hơi quá sức với bạn tại thời điểm này. Bạn nên tập trung luyện tập các câu hỏi có độ khó Medium để thành thục chúng. Và để cải thiện, hãy xem lại các phần kiến thức bạn còn sai sót và luyện tập các bài tập liên quan đến các dạng bài đó.\"\n",
    "    elif predicted == 2:\n",
    "        return \"Bạn đã nắm khá chắc các kiến thức cơ bản, tuy nhiên chưa thể vận dụng tốt để làm các câu có độ khó được đánh giá ở mức Medium và Hard. Để cải thiện, hãy xem lại các phần kiến thức bạn còn sai sót và luyện tập các bài tập liên quan đến các dạng bài đó nhé! Trước hết hãy quay lại luyện tập các câu hỏi có độ khó Medium, tránh các lỗi có thể tránh do không cẩn thận hoặc thiếu sót trong kiến thức cơ bản.\"\n",
    "    elif predicted == 3:\n",
    "        return \"Bạn đang làm khá tốt ở các câu hỏi có độ khó Medium, tuy nhiên lại sai ở các câu hỏi có độ khó được đánh giá ở mức Easy và Hard. Nguyên nhân có thể là do sự thiếu cẩn thận trong quá trình làm bài. Để cải thiện, hãy thử làm bài một cách chậm rãi để cải thiện độ chính xác cho các câu hỏi Easy và Medium, sau đó hãy luyện tập các câu hỏi có độ khó Hard để nâng cao khả năng giải quyết vấn đề của mình.\"\n",
    "    elif predicted == 4:\n",
    "        return \"Bạn đã nắm khá chắc các kiến thức cơ bản và có thể xử lý các câu hỏi có độ khó được đánh giá ở mức Easy và Medium rất tốt, tuy nhiên mức độ thể hiện ở các câu có độ khó Hard chỉ ở mức trung bình. Để đạt được điểm số cao hơn, hãy luyện tập thêm các câu hỏi có mức độ khó được đánh giá Hard để cải thiện tư duy và kĩ năng giải quyết các bài toán khó.\"\n",
    "    elif predicted == 5:\n",
    "        return \"Tuy đã nắm được các kiến thức cơ bản và có thể xử lý các câu hỏi có độ khó Hard, bạn lại đang gặp vấn đề với các câu hỏi có độ khó Medium. Nguyên nhân có thể là do sự thiếu cẩn thận hoặc thiếu sót kiến thức của các domain. Để cải thiện, hãy xem lại các phần kiến thức bạn còn sai sót và luyện tập các bài tập liên quan đến các dạng bài đó. \"\n",
    "    elif predicted == 6:\n",
    "        return \"Trình độ của bạn hiện đang ở mức Beginner, nghĩa là bạn chưa có quá nhiều tiếp xúc với toán SAT. Hãy học kĩ các kiến thức nền cơ bản của khóa học, nắm chắc lý thuyết và luyện tập nhiều từ các câu hỏi dễ đến khó để cải thiện và đạt được điểm số mong muốn.\"\n",
    "    elif predicted == 7:\n",
    "        return \"Tuy làm tốt các câu hỏi có độ khó Hard, bạn lại đang gặp nhiều sai sót với các câu hỏi có độ khó Easy và Medium. Nguyên nhân chính có lẽ là do sự thiếu cẩn thận. Để khắc phục, bạn hãy luyện 1 số đề thi hoặc làm bài tính thời gian để cải thiện kĩ năng quản lý thời gian của mình, đồng thời học lại kĩ phần lý thuyết cũng như bài tập của khóa học bạn.\"\n",
    "    elif predicted == 8:\n",
    "        return \"Về mặt tổng quát, bạn đã làm rất tốt ở các câu hỏi thuộc cả 3 độ khó Easy, Medium và Hard. Để có thể đạt được kết quả tốt thường xuyên hơn, bạn có thể luyện tập với các bài kiểm tra tính giờ để cải thiện kĩ năng quản lý thời gian cũng như xem lại các phần kiến thức nâng cao để cải thiện khả năng tư duy trả lời các câu hỏi khó. Bạn đã làm rất tốt, nhưng hoàn toàn có thể hoàn hảo hơn nữa!\"\n",
    "    elif predicted == 9:\n",
    "        return \"Bạn đang làm khá tốt ở các câu hỏi có độ khó Medium, tuy nhiên lại sai ở các câu hỏi có độ khó được đánh giá ở mức Easy và Hard. Nguyên nhân có thể là do sự thiếu cẩn thận trong quá trình làm bài. Để cải thiện, hãy thử làm bài một cách chậm rãi để cải thiện độ chính xác cho các câu hỏi Easy, nắm thật chắc bản chất của vấn đề và học kĩ lý thuyết, sau đó hãy luyện tập các câu hỏi có độ khó Hard để nâng cao khả năng giải quyết vấn đề của mình.\"\n",
    "    elif predicted == 10:\n",
    "        return \"Bạn đã nắm khá chắc các kiến thức cơ bản và có thể xử lý các câu hỏi có độ khó được đánh giá ở mức Easy và Medium rất tốt, tuy nhiên mức độ thể hiện ở các câu có độ khó Hard đang chỉ ở mức trung bình khá. Kết quả này đã rất tốt, tuy nhiên bạn hoàn toàn có thể làm tốt hơn nữa! Hãy luyện tập thêm các câu hỏi có mức độ khó được đánh giá Hard để cải thiện tư duy và kĩ năng giải quyết các bài toán khó, đặc biệt tập trung vào việc hiểu bản chất của vấn đề và bạn hoàn toàn có thể đạt điểm tối đa.\"\n",
    "    else:\n",
    "        return \"Có vẻ bạn chưa có quá nhiều tiếp xúc với toán SAT. Nhưng đừng lo, hãy bắt tay vào việc học luôn nào! Hãy nhớ rằng toán SAT không hề khó, bạn chỉ cần hiểu bản chất của vấn đề và liên hệ nó với các dạng bài bạn gặp, các công thức bạn đã học và bạn hoàn toàn có thể đạt được số điểm mong muốn! Hãy cố gắng luyện tập và học hỏi nhiều hơn. \""
   ]
  },
  {
   "cell_type": "code",
   "execution_count": 26,
   "metadata": {},
   "outputs": [
    {
     "data": {
      "text/plain": [
       "'Về mặt tổng quát, bạn đã làm rất tốt ở các câu hỏi thuộc cả 3 độ khó Easy, Medium và Hard. Để có thể đạt được kết quả tốt thường xuyên hơn, bạn có thể luyện tập với các bài kiểm tra tính giờ để cải thiện kĩ năng quản lý thời gian cũng như xem lại các phần kiến thức nâng cao để cải thiện khả năng tư duy trả lời các câu hỏi khó. Bạn đã làm rất tốt, nhưng hoàn toàn có thể hoàn hảo hơn nữa!'"
      ]
     },
     "execution_count": 26,
     "metadata": {},
     "output_type": "execute_result"
    }
   ],
   "source": [
    "# New input data\n",
    "new_input = np.array([[1, 1, 1]])\n",
    "\n",
    "# Apply the same scaling using the fitted scaler\n",
    "new_input_scaled = scaler_diff.transform(new_input)\n",
    "\n",
    "# Predict the class using the trained model\n",
    "predicted_diff = lg_diff_model.predict(new_input_scaled)\n",
    "\n",
    "feedback_diff(predicted_diff[0])"
   ]
  },
  {
   "cell_type": "code",
   "execution_count": 27,
   "metadata": {},
   "outputs": [],
   "source": [
    "def feedback_dom(predicted):\n",
    "    print(\"Cụ thể hơn nữa về các domain toán: \")\n",
    "    if predicted == 0:\n",
    "        return \" Trong các phần kiến thức, bạn đang gặp khó khăn hầu hết ở phần Algebra và Geometry. Để cải thiện, hãy cố gắng ghi nhớ các công thức, hiểu bản chất dạng bài và tránh sai sót trong tính toán nhé! \"\n",
    "    elif predicted == 1:\n",
    "        return \" Các phần kiến thức Algebra và Advanced Math đã được bạn giải quyết rất tốt, tuy nhiên bạn lại đang yếu ở phần Problem-solving & Data Analysis và mắc một vài lỗi trong phần Geometry. Hãy xem lại video bài giảng để hiểu rõ hơn các dạng bài này nhé! \"\n",
    "    elif predicted == 2:\n",
    "        return \" Trong các phần kiến thức, bạn đã nắm chắc được kĩ năng của phần Problem-solving & Data Analysis, tuy nhiên vẫn còn mắc một vài lỗi trong phần Geometry và Advanced Math, và còn khá yếu phần Algebra. Để cải thiện, hãy xem lại video bài giảng để hiểu rõ hơn các dạng bài này nhé! \"\n",
    "    elif predicted == 3:\n",
    "        return \" Phần Algebra của bạn còn cần phải cải thiện, nhưng những domain còn lại là Advanced Math, Problem-solving & Data Analysis và Geometry đã được bạn giải quyết rất tốt. Hãy giữ vững phong độ này và cố gắng trau dồi kiến thức Algebra nhé! \"\n",
    "    elif predicted == 4:\n",
    "        return \" Kĩ năng Algebra và Geometry của bạn đang mới ở mức khá, trong khi Advanced Math và Problem-solving & Data Analysis còn khá yếu. Hãy xem những bài giảng để hiểu kĩ hơn về bản chất cũng như cách giải quyết các bài toán SAT nhé! \"\n",
    "    elif predicted == 5:\n",
    "        return \" Các phần kiến thức Algebra, Advanced math và Problem-Solving & Data Analysis của bạn đang ở mức khá tốt, tuy nhiên cần cải thiện thêm. Trong khi đó bạn đã làm rất tốt phần Geometry. Hãy tiếp tục phát huy và bổ sung các phần kiến thức mà bạn chưa nắm chắc nhé!\"\n",
    "    elif predicted == 6:\n",
    "        return \" Bạn đã làm rất tốt phần Algebra và Problem-solving & Data Analysis, tuy nhiên còn yếu phần Geometry và Advanced Math. Hãy xem lại video bài giảng để hiểu rõ hơn các dạng bài này nhé! \"\n",
    "    elif predicted == 7:\n",
    "        return \" 2 phần Algebra và Math bạn đã làm rất tốt, tuy nhiên bạn còn mắc một vài sai sót trong phần Problem-solving & Data Analysis và Geometry. Để hiểu kĩ hơn các dạng bài này, hãy xem lại video bài giảng nhé! \"\n",
    "    elif predicted == 8:\n",
    "        return \" Bạn làm rất tốt ở phần Algebra, tuy nhiên lại yếu các phần còn lại ( Advanced Math, Problem-solving & Data Analysis và Geometry ). Hãy tiếp tục phát huy thế mạnh của mình và bổ sung thêm kiến thức các phần bạn còn yếu nhé! \"\n",
    "    elif predicted == 9:\n",
    "        return \" Bạn còn yếu ở phần Algebra và Problem-solving & Data Analysis, ngoài ra phần Geometry bạn vẫn mới chỉ ở mức khá. Tuy nhiên bạn đã khá thành thạo phần Advanced Math. Để cải thiện, hãy cố gắng ghi nhớ các công thức, hiểu bản chất các dạng bài và tránh sai sót trong tính toán nhé! \"\n",
    "    elif predicted == 10:\n",
    "        return \" Bạn làm rất tốt ở phần Geometry, tuy nhiên lại yếu các phần còn lại ( Advanced Math, Problem-solving & Data Analysis và Algebra ). Hãy tiếp tục phát huy thế mạnh của mình và bổ sung thêm kiến thức các phần bạn còn yếu nhé! \"\n",
    "    elif predicted == 11:\n",
    "        return \" Các bài toán Sat đều có dạng của riêng chúng. Các dạng được chia làm 4 domain Algebra, Advanced Math, Problem-solving & Data Analysis. Bạn cần phải hiểu rõ từng dạng bài, cách giải và cách áp dụng công thức. Tuy bây giờ bạn còn yếu, nhưng điều đó hoàn toàn có thể thay đổi nên hãy cố gắng lên! \"\n",
    "    elif predicted == 12:\n",
    "        return \" Bạn đã làm rất tốt phần Algebra và Advanced Math, tuy nhiên còn yếu phần Geometry và Problem-solving & Data Analysis. Hãy xem lại video bài giảng để hiểu rõ hơn các dạng bài này nhé! \"\n",
    "    elif predicted == 13:\n",
    "        return \" Bạn làm rất tốt ở phần Geometry, tuy nhiên lại yếu các phần còn lại ( Advanced Math, Problem-solving & Data Analysis và Algebra ). Hãy tiếp tục phát huy thế mạnh của mình và bổ sung thêm kiến thức các phần bạn còn yếu nhé! \"\n",
    "    elif predicted == 14:\n",
    "        return \"Bạn làm rất tốt ở phần Advanced Math, tuy nhiên lại yếu các phần còn lại ( Problem-solving & Data Analysis, Geometry và Algebra ). Hãy tiếp tục phát huy thế mạnh của mình và bổ sung thêm kiến thức các phần bạn còn yếu nhé! \"\n",
    "    elif predicted == 15:\n",
    "        return \" Bạn đã làm rất tốt phần Advanced Math và Problem-solving & Data Analysis, tuy nhiên còn yếu phần Geometry và Algebra. Hãy xem lại video bài giảng để hiểu rõ hơn các dạng bài này nhé! \"\n",
    "    elif predicted == 16:\n",
    "        return \" Bạn đã làm rất tốt 3/4 phần kiến thức ( Algebra, Advanced Math và Geometry ). Tuy nhiên bạn còn đang yếu ở phần Problem-solving & Data Analysis. Hãy xem lại video bài giảng, tìm hiểu về logic của đề cũng như ghi nhớ các công thức để có thể đạt được điểm cao nhé! \"\n",
    "    elif predicted == 17:\n",
    "        return \" Bạn làm rất tốt ở phần Problem-solving & Data Analysis, tuy nhiên lại yếu các phần còn lại ( Advanced Math, Geometry và Algebra ). Hãy tiếp tục phát huy thế mạnh của mình và bổ sung thêm kiến thức các phần bạn còn yếu nhé! \"\n",
    "    elif predicted == 18:\n",
    "        return \" Bạn đã làm rất tốt ở cả 4 phần kiến thức ( Algebra, Advanced Math, Problem-solving & Data Analysis và Geometry ). Tuy nhiên đừng chủ quan nhé! Hãy cố gắng trau dồi nhiều kiến thức nhất có thể và tránh sai những lỗi cơ bản, và bạn hoàn toàn có thể đạt được mức điểm mong muôn! \"\n",
    "    elif predicted == 19:\n",
    "        return \" Bạn đã làm khá tốt ở 2 phần Advanced Math và Geometry, tuy nhiên bạn vẫn còn sai một vài lỗi ở phần Problem-solving & Data Analysis và còn yếu phần Algebra. Hãy xem lại video bài giảng để hiểu rõ hơn các dạng bài này nhé! \"\n",
    "    elif predicted == 20:\n",
    "        return \" Bạn đã làm rất tốt 3/4 phần kiến thức ( Algebra, Geometry và Problem-solving & Data Analysis ). Tuy nhiên bạn còn đang yếu ở phần Advanced Math. Hãy xem lại video bài giảng, ghi nhớ các công thức cũng như tìm hiểu thêm các dạng phương trình và đồ thị, cố gắng liên kết các kiến thức được học với công thức để có thể đạt được điểm cao nhé! \"\n",
    "    elif predicted == 21:\n",
    "        return \" Bạn đã làm rất tốt 3/4 phần kiến thức ( Algebra, Advanced Math và Problem-solving & Data Analysis ). Tuy nhiên bạn còn đang yếu ở phần Geometry. Hãy xem lại video bài giảng, ghi nhớ các công thức cũng như tìm hiểu thêm các dạng bài hình học, cố gắng liên kết các kiến thức được học với công thức để có thể đạt được điểm cao nhé! \"\n",
    "    elif predicted == 22:\n",
    "        return \" Bạn đã làm rất tốt phần Algebra và Geometry, tuy nhiên còn yếu phần Advanced Math và Problem-solving & Data Analysis. Hãy xem lại video bài giảng để hiểu rõ hơn các dạng bài này nhé! \"\n",
    "    else: \n",
    "        return \"Bạn đã làm rất tốt phần Geometry và Problem-solving & Data Analysis, tuy nhiên còn yếu phần Algebra và Advanced Math. Hãy xem lại video bài giảng để hiểu rõ hơn các dạng bài này nhé!\""
   ]
  },
  {
   "cell_type": "code",
   "execution_count": 28,
   "metadata": {},
   "outputs": [
    {
     "name": "stdout",
     "output_type": "stream",
     "text": [
      "Cụ thể hơn nữa về các domain toán: \n"
     ]
    },
    {
     "data": {
      "text/plain": [
       "' Bạn đã làm rất tốt ở cả 4 phần kiến thức ( Algebra, Advanced Math, Problem-solving & Data Analysis và Geometry ). Tuy nhiên đừng chủ quan nhé! Hãy cố gắng trau dồi nhiều kiến thức nhất có thể và tránh sai những lỗi cơ bản, và bạn hoàn toàn có thể đạt được mức điểm mong muôn! '"
      ]
     },
     "execution_count": 28,
     "metadata": {},
     "output_type": "execute_result"
    }
   ],
   "source": [
    "# New input data\n",
    "new_input = np.array([[1, 1, 1, 1]])\n",
    "\n",
    "# Apply the same scaling using the fitted scaler\n",
    "new_input_scaled = scaler_dom.transform(new_input)\n",
    "\n",
    "# Predict the class using the trained model\n",
    "predicted_dom = lg_dom_model.predict(new_input_scaled)\n",
    "\n",
    "feedback_dom(predicted_dom)"
   ]
  }
 ],
 "metadata": {
  "kernelspec": {
   "display_name": "base",
   "language": "python",
   "name": "python3"
  },
  "language_info": {
   "codemirror_mode": {
    "name": "ipython",
    "version": 3
   },
   "file_extension": ".py",
   "mimetype": "text/x-python",
   "name": "python",
   "nbconvert_exporter": "python",
   "pygments_lexer": "ipython3",
   "version": "3.11.7"
  }
 },
 "nbformat": 4,
 "nbformat_minor": 2
}
